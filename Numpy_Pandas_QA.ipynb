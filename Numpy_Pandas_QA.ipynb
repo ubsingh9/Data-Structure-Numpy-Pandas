{
 "cells": [
  {
   "cell_type": "markdown",
   "id": "e8603a9c",
   "metadata": {},
   "source": [
    "### NumPy Advanced Question 1\n",
    "#### Problem:\n",
    "You are given a NumPy array of shape (6, 6) containing random integers between 0–100.\n",
    "1. Find the row-wise maximum and column-wise mean.\n",
    "2. Normalize the array values to a range between 0 and 1.\n",
    "3. Replace all values greater than 0.75 with 1 and all values less than 0.25 with 0."
   ]
  },
  {
   "cell_type": "code",
   "execution_count": 7,
   "id": "06ddcb93",
   "metadata": {},
   "outputs": [],
   "source": [
    "import numpy as np\n",
    "np.random.seed(42)"
   ]
  },
  {
   "cell_type": "code",
   "execution_count": 9,
   "id": "9c035c3a",
   "metadata": {},
   "outputs": [
    {
     "data": {
      "text/plain": [
       "array([[51, 92, 14, 71, 60, 20],\n",
       "       [82, 86, 74, 74, 87, 99],\n",
       "       [23,  2, 21, 52,  1, 87],\n",
       "       [29, 37,  1, 63, 59, 20],\n",
       "       [32, 75, 57, 21, 88, 48],\n",
       "       [90, 58, 41, 91, 59, 79]])"
      ]
     },
     "execution_count": 9,
     "metadata": {},
     "output_type": "execute_result"
    }
   ],
   "source": [
    "arr=np.random.randint(0,100,(6,6))\n",
    "arr"
   ]
  },
  {
   "cell_type": "code",
   "execution_count": 13,
   "id": "8a15f531",
   "metadata": {},
   "outputs": [
    {
     "data": {
      "text/plain": [
       "array([90, 92, 74, 91, 88, 99])"
      ]
     },
     "execution_count": 13,
     "metadata": {},
     "output_type": "execute_result"
    }
   ],
   "source": [
    "# row wise max\n",
    "np.max(arr,axis=0)"
   ]
  },
  {
   "cell_type": "code",
   "execution_count": 12,
   "id": "387f4089",
   "metadata": {},
   "outputs": [
    {
     "data": {
      "text/plain": [
       "array([51.33333333, 83.66666667, 31.        , 34.83333333, 53.5       ,\n",
       "       69.66666667])"
      ]
     },
     "execution_count": 12,
     "metadata": {},
     "output_type": "execute_result"
    }
   ],
   "source": [
    "# column wise mean\n",
    "arr.mean(axis=1)"
   ]
  },
  {
   "cell_type": "code",
   "execution_count": 14,
   "id": "1601f2d3",
   "metadata": {},
   "outputs": [],
   "source": [
    "# normalize between 0 and 1\n",
    "arr_min=np.min(arr)\n",
    "arr_max=np.max(arr)\n",
    "np_norm = (arr - np.mean(arr))/(arr_max-arr_min)"
   ]
  },
  {
   "cell_type": "code",
   "execution_count": 15,
   "id": "d5ce6077",
   "metadata": {},
   "outputs": [
    {
     "data": {
      "text/plain": [
       "array([[-0.03061224,  0.3877551 , -0.40816327,  0.17346939,  0.06122449,\n",
       "        -0.34693878],\n",
       "       [ 0.28571429,  0.32653061,  0.20408163,  0.20408163,  0.33673469,\n",
       "         0.45918367],\n",
       "       [-0.31632653, -0.53061224, -0.33673469, -0.02040816, -0.54081633,\n",
       "         0.33673469],\n",
       "       [-0.25510204, -0.17346939, -0.54081633,  0.09183673,  0.05102041,\n",
       "        -0.34693878],\n",
       "       [-0.2244898 ,  0.21428571,  0.03061224, -0.33673469,  0.34693878,\n",
       "        -0.06122449],\n",
       "       [ 0.36734694,  0.04081633, -0.13265306,  0.37755102,  0.05102041,\n",
       "         0.25510204]])"
      ]
     },
     "execution_count": 15,
     "metadata": {},
     "output_type": "execute_result"
    }
   ],
   "source": [
    "np_norm"
   ]
  },
  {
   "cell_type": "code",
   "execution_count": 21,
   "id": "12e30aea",
   "metadata": {},
   "outputs": [
    {
     "data": {
      "text/plain": [
       "array([[0.        , 0.3877551 , 0.        , 0.        , 0.        ,\n",
       "        0.        ],\n",
       "       [0.28571429, 0.32653061, 0.        , 0.        , 0.33673469,\n",
       "        0.45918367],\n",
       "       [0.        , 0.        , 0.        , 0.        , 0.        ,\n",
       "        0.33673469],\n",
       "       [0.        , 0.        , 0.        , 0.        , 0.        ,\n",
       "        0.        ],\n",
       "       [0.        , 0.        , 0.        , 0.        , 0.34693878,\n",
       "        0.        ],\n",
       "       [0.36734694, 0.        , 0.        , 0.37755102, 0.        ,\n",
       "        0.25510204]])"
      ]
     },
     "execution_count": 21,
     "metadata": {},
     "output_type": "execute_result"
    }
   ],
   "source": [
    "np_norm[np_norm>0.75]=1\n",
    "np_norm[np_norm<0.25]=0\n",
    "np_norm"
   ]
  },
  {
   "cell_type": "markdown",
   "id": "0c061521",
   "metadata": {},
   "source": [
    "#### Question 2: Efficient Matrix Operations\n",
    "You’re given two large 1000×1000 NumPy arrays A and B. Perform the following efficiently (without explicit loops):\n",
    "1. Compute the dot product of A and B.\n",
    "2. Compute the element-wise multiplication of A and B.\n",
    "3. Extract the main diagonal of the dot product matrix.\n",
    "4. Compute the sum of all diagonal elements (trace).\n",
    "5. Verify whether the dot product matrix is symmetric."
   ]
  },
  {
   "cell_type": "code",
   "execution_count": 23,
   "id": "05e304b4",
   "metadata": {},
   "outputs": [],
   "source": [
    "arr1=np.random.randn(1000,1000)\n",
    "arr2=np.random.randn(1000,1000)"
   ]
  },
  {
   "cell_type": "code",
   "execution_count": 24,
   "id": "7731a5c5",
   "metadata": {},
   "outputs": [
    {
     "data": {
      "text/plain": [
       "(1000, 1000)"
      ]
     },
     "execution_count": 24,
     "metadata": {},
     "output_type": "execute_result"
    }
   ],
   "source": [
    "arr1.shape"
   ]
  },
  {
   "cell_type": "code",
   "execution_count": null,
   "id": "b46b4398",
   "metadata": {},
   "outputs": [],
   "source": [
    "# dot product\n",
    "arr3=np.dot(arr1, arr2)"
   ]
  },
  {
   "cell_type": "code",
   "execution_count": null,
   "id": "ee4e16f4",
   "metadata": {},
   "outputs": [],
   "source": [
    "# element wise multiplication\n",
    "arr4=np.multiply(arr1, arr2)"
   ]
  },
  {
   "cell_type": "code",
   "execution_count": null,
   "id": "ffffeb15",
   "metadata": {},
   "outputs": [
    {
     "data": {
      "text/plain": [
       "(1000,)"
      ]
     },
     "execution_count": 28,
     "metadata": {},
     "output_type": "execute_result"
    }
   ],
   "source": [
    "# main diagonal\n",
    "arr4=np.diag(arr3)\n",
    "arr4.shape"
   ]
  },
  {
   "cell_type": "code",
   "execution_count": 33,
   "id": "09e374e4",
   "metadata": {},
   "outputs": [
    {
     "data": {
      "text/plain": [
       "-1750.901455310185"
      ]
     },
     "execution_count": 33,
     "metadata": {},
     "output_type": "execute_result"
    }
   ],
   "source": [
    "# sum of trace\n",
    "arr5=np.sum(np.diag(arr4))\n",
    "arr5"
   ]
  },
  {
   "cell_type": "code",
   "execution_count": 34,
   "id": "2cf02a9f",
   "metadata": {},
   "outputs": [
    {
     "data": {
      "text/plain": [
       "False"
      ]
     },
     "execution_count": 34,
     "metadata": {},
     "output_type": "execute_result"
    }
   ],
   "source": [
    "# summetric check\n",
    "np.allclose(arr3, arr3.T)"
   ]
  },
  {
   "cell_type": "markdown",
   "id": "2e40d934",
   "metadata": {},
   "source": [
    "#### Question 3: Broadcasting and Normalization\n",
    "\n",
    "You’re given a 2D NumPy array X of shape (1000, 50) where each row represents a sample and each column represents a feature. Perform the following tasks using broadcasting (no loops allowed):\n",
    "\n",
    "1. Normalize each column (subtract mean and divide by standard deviation → z-score normalization).\n",
    "\n",
    "2. Compute the column-wise min–max scaling (scale each column to [0,1]).\n",
    "\n",
    "3. Add a bias column of all ones as the first column (so new shape becomes (1000, 51)).\n",
    "\n",
    "4. Compute the cosine similarity between the first row and all other rows."
   ]
  },
  {
   "cell_type": "code",
   "execution_count": 36,
   "id": "4ecf0daa",
   "metadata": {},
   "outputs": [],
   "source": [
    "arr=np.random.randint(0,100, (1000,50))"
   ]
  },
  {
   "cell_type": "code",
   "execution_count": 42,
   "id": "94095092",
   "metadata": {},
   "outputs": [
    {
     "data": {
      "text/plain": [
       "array([[36, 78, 86, ..., 48, 97, 14],\n",
       "       [55, 47, 36, ..., 79, 75, 16],\n",
       "       [67, 85, 58, ..., 58, 50, 76],\n",
       "       ...,\n",
       "       [89, 11, 80, ..., 55, 67, 98],\n",
       "       [54, 67, 54, ...,  1, 68, 21],\n",
       "       [90, 30, 24, ..., 96, 69, 76]])"
      ]
     },
     "execution_count": 42,
     "metadata": {},
     "output_type": "execute_result"
    }
   ],
   "source": [
    "arr"
   ]
  },
  {
   "cell_type": "code",
   "execution_count": null,
   "id": "73019069",
   "metadata": {},
   "outputs": [
    {
     "data": {
      "text/plain": [
       "array([48.8506233 , 47.15087265, 48.37246921, 47.47013802, 46.67933692,\n",
       "       46.36340838, 47.06248337, 48.0020691 , 47.77072463, 47.23300696,\n",
       "       46.67731913, 48.33675619, 48.4038711 , 48.0689266 , 47.71800707,\n",
       "       48.06429907, 48.3389872 , 47.55946613, 48.13081522, 46.38688455,\n",
       "       46.99887004, 48.73375059, 46.83374508, 45.95776805, 47.22363433,\n",
       "       47.7422391 , 49.11688931, 48.73644487, 47.92550514, 47.65819038,\n",
       "       48.12286574, 48.51831895, 46.29450122, 48.42539424, 48.09513354,\n",
       "       47.39727268, 47.43274079, 48.27686342, 49.08834794, 47.47113644,\n",
       "       48.97570642, 47.03455432, 48.52027703, 46.99132543, 48.22149917,\n",
       "       48.0596431 , 48.30744246, 47.66401684, 46.48155215, 46.43167903])"
      ]
     },
     "execution_count": 41,
     "metadata": {},
     "output_type": "execute_result"
    }
   ],
   "source": [
    "# standarddization on each column\n",
    "arr_stand=(arr-arr.mean(axis=0))/arr.std(axis=0)\n",
    "arr_stand.mean(0)"
   ]
  },
  {
   "cell_type": "code",
   "execution_count": 43,
   "id": "e5b1b1a0",
   "metadata": {},
   "outputs": [
    {
     "data": {
      "text/plain": [
       "array([[0.36363636, 0.78787879, 0.86868687, ..., 0.48484848, 0.97979798,\n",
       "        0.14141414],\n",
       "       [0.55555556, 0.47474747, 0.36363636, ..., 0.7979798 , 0.75757576,\n",
       "        0.16161616],\n",
       "       [0.67676768, 0.85858586, 0.58585859, ..., 0.58585859, 0.50505051,\n",
       "        0.76767677],\n",
       "       ...,\n",
       "       [0.8989899 , 0.11111111, 0.80808081, ..., 0.55555556, 0.67676768,\n",
       "        0.98989899],\n",
       "       [0.54545455, 0.67676768, 0.54545455, ..., 0.01010101, 0.68686869,\n",
       "        0.21212121],\n",
       "       [0.90909091, 0.3030303 , 0.24242424, ..., 0.96969697, 0.6969697 ,\n",
       "        0.76767677]])"
      ]
     },
     "execution_count": 43,
     "metadata": {},
     "output_type": "execute_result"
    }
   ],
   "source": [
    "# min -max normalization\n",
    "arr_norm= (arr - arr.min(axis=0))/(arr.max(axis=0)- arr.min(axis=0))\n",
    "arr_norm"
   ]
  },
  {
   "cell_type": "code",
   "execution_count": 44,
   "id": "8c7879cf",
   "metadata": {},
   "outputs": [],
   "source": [
    "# array with bias column\n",
    "arr_bias=np.hstack([np.ones((arr.shape[0],1)),arr])"
   ]
  },
  {
   "cell_type": "markdown",
   "id": "e15444b1",
   "metadata": {},
   "source": [
    "### Question 4: Eigen Decomposition and PCA with NumPy\n",
    "\n",
    "You are given a dataset represented as a 2D NumPy array X of shape (500, 20) where each row is a data sample and each column is a feature. Perform Principal Component Analysis (PCA) without using sklearn, only with NumPy:\n",
    "\n",
    "1. Standardize the data (zero mean, unit variance).\n",
    "\n",
    "2. Compute the covariance matrix of the standardized data.\n",
    "\n",
    "3. Perform eigen decomposition of the covariance matrix.\n",
    "\n",
    "4. Sort eigenvalues and eigenvectors in descending order.\n",
    "\n",
    "5. Project the data onto the top 3 principal components."
   ]
  },
  {
   "cell_type": "code",
   "execution_count": 51,
   "id": "1dc48858",
   "metadata": {},
   "outputs": [],
   "source": [
    "np.random.seed(42)\n",
    "arr=np.random.randn(500,20)"
   ]
  },
  {
   "cell_type": "code",
   "execution_count": 52,
   "id": "43a43109",
   "metadata": {},
   "outputs": [
    {
     "data": {
      "text/plain": [
       "array([[ 0.46591144, -0.1899865 ,  0.6776409 , ...,  0.31995548,\n",
       "        -0.87774831, -1.50286433],\n",
       "       [ 1.42053702, -0.27905449,  0.10115554, ..., -1.8446737 ,\n",
       "        -1.29242007,  0.19737897],\n",
       "       [ 0.70409371,  0.12515143, -0.08086064, ..., -0.27353972,\n",
       "         0.34534555,  1.02013618],\n",
       "       ...,\n",
       "       [-0.58253468,  1.78429623,  2.04341991, ..., -0.96406205,\n",
       "         0.66057612,  0.43939286],\n",
       "       [-1.07832236, -0.84753023,  0.71818984, ..., -0.83680995,\n",
       "        -0.9810422 , -1.87019672],\n",
       "       [-0.46267924, -0.56194248,  0.55666086, ..., -0.65060663,\n",
       "         0.50769816,  0.67023612]])"
      ]
     },
     "execution_count": 52,
     "metadata": {},
     "output_type": "execute_result"
    }
   ],
   "source": [
    "# standardization\n",
    "arr_std=(arr - arr.mean(axis=0))/arr.std(axis=0)\n",
    "arr_std"
   ]
  },
  {
   "cell_type": "code",
   "execution_count": 53,
   "id": "75abd7fa",
   "metadata": {},
   "outputs": [
    {
     "data": {
      "text/plain": [
       "array([-2.63122857e-17, -7.06101844e-17, -4.26325641e-17, -2.29261055e-17,\n",
       "        1.02140518e-17, -2.73114864e-17,  2.66453526e-18, -4.13002965e-17,\n",
       "        1.73194792e-17,  2.06501483e-17, -3.28626015e-17,  9.15933995e-18,\n",
       "        1.15463195e-17, -7.99360578e-18, -1.64313008e-17, -2.22044605e-17,\n",
       "       -2.39808173e-17,  1.62092562e-17,  2.42028619e-17,  4.48530102e-17])"
      ]
     },
     "execution_count": 53,
     "metadata": {},
     "output_type": "execute_result"
    }
   ],
   "source": [
    "arr_std.mean(0)"
   ]
  },
  {
   "cell_type": "code",
   "execution_count": 54,
   "id": "6c976e4a",
   "metadata": {},
   "outputs": [],
   "source": [
    "# compute covarience\n",
    "arr_cov=np.cov(arr_std.T)"
   ]
  },
  {
   "cell_type": "code",
   "execution_count": 57,
   "id": "1162380a",
   "metadata": {},
   "outputs": [],
   "source": [
    "### calculate eigen decomposition\n",
    "eigenvalue, eigenvectors = np.linalg.eigh(arr_cov)"
   ]
  },
  {
   "cell_type": "code",
   "execution_count": 58,
   "id": "e985d560",
   "metadata": {},
   "outputs": [],
   "source": [
    "# sort eigen vectors\n",
    "idx= np.argsort(eigenvalue)[::-1]\n",
    "eigenvalue =eigenvalue[idx]\n",
    "eigenvectors=eigenvectors[:,idx]"
   ]
  },
  {
   "cell_type": "code",
   "execution_count": 59,
   "id": "202b29b7",
   "metadata": {},
   "outputs": [],
   "source": [
    "# project data onto top 3 principal components\n",
    "X_pca= arr_std @ eigenvectors[:,:3]"
   ]
  },
  {
   "cell_type": "code",
   "execution_count": 60,
   "id": "10414893",
   "metadata": {},
   "outputs": [
    {
     "name": "stdout",
     "output_type": "stream",
     "text": [
      "Covariance matrix shape: (20, 20)\n",
      "Top 5 eigenvalues: [1.35501731 1.27913733 1.25836532 1.207866   1.17677586]\n",
      "Eigenvectors shape: (20, 20)\n",
      "Transformed dataset shape: (500, 3)\n"
     ]
    }
   ],
   "source": [
    "# Outputs for validation\n",
    "print(\"Covariance matrix shape:\", arr_cov.shape)\n",
    "print(\"Top 5 eigenvalues:\", eigenvalue[:5])\n",
    "print(\"Eigenvectors shape:\", eigenvectors.shape)\n",
    "print(\"Transformed dataset shape:\", X_pca.shape)"
   ]
  },
  {
   "cell_type": "markdown",
   "id": "6b28ae79",
   "metadata": {},
   "source": [
    "### Q5: Convolution Implementation with NumPy\n",
    "#### Problem Statement\n",
    "\n",
    "Implement a 2D convolution operation from scratch (without using libraries like scipy.signal.convolve2d).\n",
    "\n",
    "1. Input: A 2D matrix (say 6x6) and a kernel (say 3x3).\n",
    "\n",
    "2. Output: A convolved 2D matrix."
   ]
  },
  {
   "cell_type": "code",
   "execution_count": 61,
   "id": "55add1e6",
   "metadata": {},
   "outputs": [
    {
     "name": "stdout",
     "output_type": "stream",
     "text": [
      "Input shape: (6, 6)\n",
      "Kernel shape: (3, 3)\n",
      "Output shape: (4, 4)\n",
      "Convolved output:\n",
      " [[-4. -2.  2.  3.]\n",
      " [ 0. -4. -3.  2.]\n",
      " [ 0. -2. -2. -1.]\n",
      " [-2.  0.  2.  0.]]\n"
     ]
    }
   ],
   "source": [
    "# 1. Imput matrix\n",
    "X = np.array([\n",
    "    [1, 2, 3, 0, 0, 1],\n",
    "    [0, 1, 2, 3, 1, 0],\n",
    "    [1, 0, 1, 2, 3, 1],\n",
    "    [2, 1, 0, 1, 2, 3],\n",
    "    [0, 1, 2, 1, 0, 1],\n",
    "    [1, 2, 3, 2, 1, 0]\n",
    "])\n",
    "\n",
    "# 2. Kernel\n",
    "K=np.array([\n",
    "    [1, 0, -1],\n",
    "    [1, 0, -1],\n",
    "    [1, 0, -1]\n",
    "])\n",
    "\n",
    "\n",
    "# 3. Convolutional implementation\n",
    "def conv2d(X, K):\n",
    "    X_h, X_w = X.shape\n",
    "    K_h, K_w = K.shape\n",
    "    out_h = X_h - K_h +1\n",
    "    out_w = X_w - K_w +1\n",
    "\n",
    "    # Initialize output\n",
    "    out=np.zeros((out_h, out_w))\n",
    "\n",
    "    for i in range(out_h):\n",
    "        for j in range(out_w):\n",
    "            region = X[i:i+K_h, j:j+K_w]\n",
    "            out[i, j] = np.sum(region*K)\n",
    "    return out\n",
    "\n",
    "\n",
    "output = conv2d(X, K)\n",
    "\n",
    "print(\"Input shape:\", X.shape)\n",
    "print(\"Kernel shape:\", K.shape)\n",
    "print(\"Output shape:\", output.shape)\n",
    "print(\"Convolved output:\\n\", output)"
   ]
  },
  {
   "cell_type": "markdown",
   "id": "10bc6aad",
   "metadata": {},
   "source": [
    "### Q6. Matrix Eigendecomposition\n",
    "\n",
    "📌 Problem Statement:\n",
    "Given a symmetric matrix (say, size 4×4), perform an eigendecomposition using NumPy and validate the result.\n",
    "\n",
    "1. Compute the eigenvalues and eigenvectors of the matrix.\n",
    "\n",
    "2. Reconstruct the original matrix using the decomposition formula:\n",
    "\n",
    "𝐴= 𝑉Λ𝑉𝑇\n",
    "where:\n",
    "A = original matrix\n",
    "V = eigenvectors\n",
    "Λ = diagonal matrix of eigenvalues\n",
    "\n",
    "3. Verify your reconstruction by checking if the difference between the original and reconstructed matrix is close to zero (use np.allclose)."
   ]
  },
  {
   "cell_type": "code",
   "execution_count": 64,
   "id": "6746576e",
   "metadata": {},
   "outputs": [
    {
     "data": {
      "text/plain": [
       "False"
      ]
     },
     "execution_count": 64,
     "metadata": {},
     "output_type": "execute_result"
    }
   ],
   "source": [
    "# 1. create numpy array\n",
    "\n",
    "X = np.array([[6, 2, 1, 0],\n",
    "              [2, 3, 1, 0],\n",
    "              [1, 1, 1, 0],\n",
    "              [0, 0, 0, 5]])\n",
    "\n",
    "X_std = (X- X.mean(axis = 0))/X.std(axis =0)\n",
    "\n",
    "cov_matrix = np.cov(X_std.T)\n",
    "\n",
    "eigenvalue, eigenvectors = np.linalg.eigh(cov_matrix)\n",
    "\n",
    "idx= np.argsort(eigenvalue)[::-1]\n",
    "eigenvalue = eigenvalue[idx]\n",
    "eigenvectors=eigenvectors[:,idx]\n",
    "\n",
    "np.allclose(eigenvalue, eigenvectors @ np.diag(eigenvalue) @ eigenvalue.T)"
   ]
  },
  {
   "cell_type": "markdown",
   "id": "4d00da5f",
   "metadata": {},
   "source": [
    "### Q7: Singular Value Decomposition (SVD)\n",
    "\n",
    "You are given a 5×3 random matrix.\n",
    "\n",
    "Task:\n",
    "\n",
    "1. Perform Singular Value Decomposition (SVD) using NumPy.\n",
    "\n",
    "2. Verify that A=UΣVT\n",
    "\n",
    "3. Reconstruct the matrix using only the top 2 singular values and compare it with the original (approximation)."
   ]
  },
  {
   "cell_type": "code",
   "execution_count": 66,
   "id": "491e6ed3",
   "metadata": {},
   "outputs": [],
   "source": [
    "A=np.random.randint(1,10,(5,3))"
   ]
  },
  {
   "cell_type": "code",
   "execution_count": null,
   "id": "e07c8f4b",
   "metadata": {},
   "outputs": [],
   "source": []
  }
 ],
 "metadata": {
  "kernelspec": {
   "display_name": "base",
   "language": "python",
   "name": "python3"
  },
  "language_info": {
   "codemirror_mode": {
    "name": "ipython",
    "version": 3
   },
   "file_extension": ".py",
   "mimetype": "text/x-python",
   "name": "python",
   "nbconvert_exporter": "python",
   "pygments_lexer": "ipython3",
   "version": "3.12.7"
  }
 },
 "nbformat": 4,
 "nbformat_minor": 5
}
