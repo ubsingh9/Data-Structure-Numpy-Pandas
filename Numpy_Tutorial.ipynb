{
 "cells": [
  {
   "cell_type": "markdown",
   "id": "d6b62603",
   "metadata": {},
   "source": [
    "### Numpy revision Tutorial"
   ]
  },
  {
   "cell_type": "code",
   "execution_count": 2,
   "id": "d0646ebe",
   "metadata": {},
   "outputs": [],
   "source": [
    "import numpy as np"
   ]
  },
  {
   "cell_type": "code",
   "execution_count": 4,
   "id": "2bc0d300",
   "metadata": {},
   "outputs": [
    {
     "name": "stdout",
     "output_type": "stream",
     "text": [
      "[[1 2 3]\n",
      " [4 5 6]]\n"
     ]
    }
   ],
   "source": [
    "a=np.array([[1,2,3], [4,5,6]])\n",
    "print(a)"
   ]
  },
  {
   "cell_type": "code",
   "execution_count": 5,
   "id": "d4678276",
   "metadata": {},
   "outputs": [
    {
     "data": {
      "text/plain": [
       "(2, 3)"
      ]
     },
     "execution_count": 5,
     "metadata": {},
     "output_type": "execute_result"
    }
   ],
   "source": [
    "a.shape"
   ]
  },
  {
   "cell_type": "code",
   "execution_count": 8,
   "id": "edb90d00",
   "metadata": {},
   "outputs": [
    {
     "name": "stdout",
     "output_type": "stream",
     "text": [
      "[1 2 3 4 5 6 7]\n"
     ]
    }
   ],
   "source": [
    "a=np.array([1,2,3,4,5,6,7])\n",
    "print(a)"
   ]
  },
  {
   "cell_type": "code",
   "execution_count": 9,
   "id": "22341d82",
   "metadata": {},
   "outputs": [
    {
     "data": {
      "text/plain": [
       "1"
      ]
     },
     "execution_count": 9,
     "metadata": {},
     "output_type": "execute_result"
    }
   ],
   "source": [
    "a[0]"
   ]
  },
  {
   "cell_type": "code",
   "execution_count": 10,
   "id": "8b3add27",
   "metadata": {},
   "outputs": [
    {
     "name": "stdout",
     "output_type": "stream",
     "text": [
      "[10  2  3  4  5  6  7]\n"
     ]
    }
   ],
   "source": [
    "a[0]=10\n",
    "print(a)"
   ]
  },
  {
   "cell_type": "code",
   "execution_count": 11,
   "id": "d27011c1",
   "metadata": {},
   "outputs": [
    {
     "data": {
      "text/plain": [
       "array([10,  2,  3])"
      ]
     },
     "execution_count": 11,
     "metadata": {},
     "output_type": "execute_result"
    }
   ],
   "source": [
    "a[:3]"
   ]
  },
  {
   "cell_type": "code",
   "execution_count": 12,
   "id": "b93e0ec2",
   "metadata": {},
   "outputs": [
    {
     "name": "stdout",
     "output_type": "stream",
     "text": [
      "[[ 1  2  3  4]\n",
      " [ 5  6  7  8]\n",
      " [ 9 10 11 12]]\n"
     ]
    }
   ],
   "source": [
    "a=np.array([[1,2,3,4],[5,6,7,8],[9,10,11,12]])\n",
    "print(a)"
   ]
  },
  {
   "cell_type": "code",
   "execution_count": 13,
   "id": "9ad80b90",
   "metadata": {},
   "outputs": [
    {
     "data": {
      "text/plain": [
       "8"
      ]
     },
     "execution_count": 13,
     "metadata": {},
     "output_type": "execute_result"
    }
   ],
   "source": [
    "a[1,3]"
   ]
  },
  {
   "cell_type": "code",
   "execution_count": 15,
   "id": "764b10b2",
   "metadata": {},
   "outputs": [
    {
     "data": {
      "text/plain": [
       "2"
      ]
     },
     "execution_count": 15,
     "metadata": {},
     "output_type": "execute_result"
    }
   ],
   "source": [
    "a.ndim # number of dimention of an array"
   ]
  },
  {
   "cell_type": "code",
   "execution_count": 17,
   "id": "e170b6c2",
   "metadata": {},
   "outputs": [
    {
     "data": {
      "text/plain": [
       "(3, 4)"
      ]
     },
     "execution_count": 17,
     "metadata": {},
     "output_type": "execute_result"
    }
   ],
   "source": [
    "a.shape # shape of an array"
   ]
  },
  {
   "cell_type": "code",
   "execution_count": 18,
   "id": "32309682",
   "metadata": {},
   "outputs": [
    {
     "data": {
      "text/plain": [
       "12"
      ]
     },
     "execution_count": 18,
     "metadata": {},
     "output_type": "execute_result"
    }
   ],
   "source": [
    "a.size # size of an array"
   ]
  },
  {
   "cell_type": "code",
   "execution_count": 19,
   "id": "7c7fc97b",
   "metadata": {},
   "outputs": [
    {
     "data": {
      "text/plain": [
       "dtype('int32')"
      ]
     },
     "execution_count": 19,
     "metadata": {},
     "output_type": "execute_result"
    }
   ],
   "source": [
    "a.dtype # datatype of an array"
   ]
  },
  {
   "cell_type": "markdown",
   "id": "7b8f1dd1",
   "metadata": {},
   "source": [
    "### Create a basic array"
   ]
  },
  {
   "cell_type": "code",
   "execution_count": 21,
   "id": "00d09bb4",
   "metadata": {},
   "outputs": [
    {
     "name": "stdout",
     "output_type": "stream",
     "text": [
      "[0. 0. 0. 0. 0.]\n"
     ]
    }
   ],
   "source": [
    "a = np.zeros(5) # creating an array of size 5 with all number is zero\n",
    "print(a)"
   ]
  },
  {
   "cell_type": "code",
   "execution_count": 22,
   "id": "446cc68f",
   "metadata": {},
   "outputs": [
    {
     "name": "stdout",
     "output_type": "stream",
     "text": [
      "[1. 1. 1.]\n"
     ]
    }
   ],
   "source": [
    "b=np.ones(3)\n",
    "print(b)"
   ]
  },
  {
   "cell_type": "code",
   "execution_count": 24,
   "id": "99503645",
   "metadata": {},
   "outputs": [
    {
     "name": "stdout",
     "output_type": "stream",
     "text": [
      "[1. 1. 1.]\n"
     ]
    }
   ],
   "source": [
    "c= np.empty(3) # creat an array empty element\n",
    "print(c)"
   ]
  },
  {
   "cell_type": "code",
   "execution_count": 25,
   "id": "40022c7b",
   "metadata": {},
   "outputs": [
    {
     "name": "stdout",
     "output_type": "stream",
     "text": [
      "[0 1 2 3 4]\n"
     ]
    }
   ],
   "source": [
    "d=np.arange(5) # create the numpy array with range\n",
    "print(d)"
   ]
  },
  {
   "cell_type": "code",
   "execution_count": 26,
   "id": "9d837d66",
   "metadata": {},
   "outputs": [
    {
     "name": "stdout",
     "output_type": "stream",
     "text": [
      "[2 4 6 8]\n"
     ]
    }
   ],
   "source": [
    "e=np.arange(2,9,2) # first, last, step\n",
    "print(e)"
   ]
  },
  {
   "cell_type": "code",
   "execution_count": 32,
   "id": "b514bee1",
   "metadata": {},
   "outputs": [
    {
     "name": "stdout",
     "output_type": "stream",
     "text": [
      "[ 0.  3.  6.  9. 12. 15.]\n"
     ]
    }
   ],
   "source": [
    "f= np.linspace(0,15,num=6)\n",
    "print(f)"
   ]
  },
  {
   "cell_type": "code",
   "execution_count": 36,
   "id": "5ea62efe",
   "metadata": {},
   "outputs": [
    {
     "name": "stdout",
     "output_type": "stream",
     "text": [
      "[1 1]\n"
     ]
    }
   ],
   "source": [
    "g= np.ones(2, dtype=np.int32)\n",
    "print(g)"
   ]
  },
  {
   "cell_type": "code",
   "execution_count": 37,
   "id": "293b739f",
   "metadata": {},
   "outputs": [
    {
     "data": {
      "text/plain": [
       "dtype('int32')"
      ]
     },
     "execution_count": 37,
     "metadata": {},
     "output_type": "execute_result"
    }
   ],
   "source": [
    "g.dtype"
   ]
  },
  {
   "cell_type": "markdown",
   "id": "9d38c84b",
   "metadata": {},
   "source": [
    "### Removing and Sorting"
   ]
  },
  {
   "cell_type": "code",
   "execution_count": 41,
   "id": "69557413",
   "metadata": {},
   "outputs": [
    {
     "name": "stdout",
     "output_type": "stream",
     "text": [
      "[3 2 1 5 6 4 8]\n",
      "[1 2 3 4 5 6 8]\n"
     ]
    }
   ],
   "source": [
    "arr=np.array([3,2,1,5,6,4,8])\n",
    "print(arr)\n",
    "arr2=np.sort(arr)\n",
    "print(arr2)\n"
   ]
  },
  {
   "cell_type": "code",
   "execution_count": 46,
   "id": "b6565897",
   "metadata": {},
   "outputs": [
    {
     "name": "stdout",
     "output_type": "stream",
     "text": [
      "[1 2 3 4 5 6 7 8]\n"
     ]
    }
   ],
   "source": [
    "arr1 = np.array([1,2,3,4])\n",
    "arr2 =np.array([5,6,7,8])\n",
    "arr3= np.concatenate((arr1, arr2))\n",
    "print(arr3)"
   ]
  },
  {
   "cell_type": "code",
   "execution_count": 52,
   "id": "8a1f6293",
   "metadata": {},
   "outputs": [
    {
     "name": "stdout",
     "output_type": "stream",
     "text": [
      "[[1 2]\n",
      " [3 4]\n",
      " [5 6]]\n"
     ]
    }
   ],
   "source": [
    "x= np.array([[1,2],[3,4]])\n",
    "y = np.array([[5,6]])\n",
    "z= np.concatenate((x,y),axis=0)\n",
    "print(z)"
   ]
  },
  {
   "cell_type": "code",
   "execution_count": 55,
   "id": "27a016ae",
   "metadata": {},
   "outputs": [
    {
     "data": {
      "text/plain": [
       "6"
      ]
     },
     "execution_count": 55,
     "metadata": {},
     "output_type": "execute_result"
    }
   ],
   "source": [
    "z.size"
   ]
  },
  {
   "cell_type": "code",
   "execution_count": 57,
   "id": "e399a7cf",
   "metadata": {},
   "outputs": [
    {
     "name": "stdout",
     "output_type": "stream",
     "text": [
      "[0 1 2 3 4 5]\n",
      "[[0 1]\n",
      " [2 3]\n",
      " [4 5]]\n"
     ]
    }
   ],
   "source": [
    "a=np.arange(6)\n",
    "print(a)\n",
    "b=a.reshape(3,2)\n",
    "print(b)"
   ]
  },
  {
   "cell_type": "code",
   "execution_count": 58,
   "id": "c2d899f4",
   "metadata": {},
   "outputs": [
    {
     "data": {
      "text/plain": [
       "1"
      ]
     },
     "execution_count": 58,
     "metadata": {},
     "output_type": "execute_result"
    }
   ],
   "source": [
    "data=np.arange(6)\n",
    "data[1]"
   ]
  },
  {
   "cell_type": "code",
   "execution_count": 59,
   "id": "2a44fee5",
   "metadata": {},
   "outputs": [
    {
     "data": {
      "text/plain": [
       "array([0, 1])"
      ]
     },
     "execution_count": 59,
     "metadata": {},
     "output_type": "execute_result"
    }
   ],
   "source": [
    "data[0:2]"
   ]
  },
  {
   "cell_type": "code",
   "execution_count": 60,
   "id": "1aff0f35",
   "metadata": {},
   "outputs": [
    {
     "data": {
      "text/plain": [
       "array([1, 2, 3, 4, 5])"
      ]
     },
     "execution_count": 60,
     "metadata": {},
     "output_type": "execute_result"
    }
   ],
   "source": [
    "data[1:]"
   ]
  },
  {
   "cell_type": "code",
   "execution_count": 61,
   "id": "347b6771",
   "metadata": {},
   "outputs": [
    {
     "data": {
      "text/plain": [
       "array([4, 5])"
      ]
     },
     "execution_count": 61,
     "metadata": {},
     "output_type": "execute_result"
    }
   ],
   "source": [
    "data[-2:]"
   ]
  },
  {
   "cell_type": "code",
   "execution_count": 65,
   "id": "cb781d6d",
   "metadata": {},
   "outputs": [
    {
     "data": {
      "text/plain": [
       "array([4, 5])"
      ]
     },
     "execution_count": 65,
     "metadata": {},
     "output_type": "execute_result"
    }
   ],
   "source": [
    "data[-2:]"
   ]
  },
  {
   "cell_type": "code",
   "execution_count": 66,
   "id": "c0feddaa",
   "metadata": {},
   "outputs": [
    {
     "name": "stdout",
     "output_type": "stream",
     "text": [
      "[1 2 3 4 5]\n"
     ]
    }
   ],
   "source": [
    "a=np.array([[1,2,3,4],[5,6,7,8],[9,10,11,12]])\n",
    "print(a[a<6])"
   ]
  },
  {
   "cell_type": "code",
   "execution_count": 67,
   "id": "45b89e53",
   "metadata": {},
   "outputs": [
    {
     "name": "stdout",
     "output_type": "stream",
     "text": [
      "[ 5  6  7  8  9 10 11 12]\n"
     ]
    }
   ],
   "source": [
    "five_up= (a>=5)\n",
    "print(a[five_up])"
   ]
  },
  {
   "cell_type": "code",
   "execution_count": 69,
   "id": "cafca2da",
   "metadata": {},
   "outputs": [
    {
     "name": "stdout",
     "output_type": "stream",
     "text": [
      "[ 3  4  5  6  7  8  9 10]\n"
     ]
    }
   ],
   "source": [
    "c=a[(a>2) & (a<11)]\n",
    "print(c)"
   ]
  },
  {
   "cell_type": "code",
   "execution_count": 70,
   "id": "d41cd983",
   "metadata": {},
   "outputs": [
    {
     "data": {
      "text/plain": [
       "[(0, 2), (1, 3)]"
      ]
     },
     "execution_count": 70,
     "metadata": {},
     "output_type": "execute_result"
    }
   ],
   "source": [
    "list(zip(b[0], b[1]))"
   ]
  },
  {
   "cell_type": "markdown",
   "id": "e2bdbd22",
   "metadata": {},
   "source": [
    "### Create array with existing data"
   ]
  },
  {
   "cell_type": "code",
   "execution_count": 71,
   "id": "b4b6171e",
   "metadata": {},
   "outputs": [
    {
     "name": "stdout",
     "output_type": "stream",
     "text": [
      "[4 5 6 7 8]\n"
     ]
    }
   ],
   "source": [
    "a=np.array([1,2,3,4,5,6,7,8,9,10])\n",
    "arr1=a[3:8]\n",
    "print(arr1)"
   ]
  },
  {
   "cell_type": "code",
   "execution_count": 72,
   "id": "c5a72a33",
   "metadata": {},
   "outputs": [
    {
     "name": "stdout",
     "output_type": "stream",
     "text": [
      "[[ 1  2  3  4  5  6  7  8  9 10 11 12]\n",
      " [13 14 15 16 17 18 19 20 21 22 23 24]]\n"
     ]
    }
   ],
   "source": [
    "x=np.arange(1,25).reshape(2,12)\n",
    "print(x)"
   ]
  },
  {
   "cell_type": "code",
   "execution_count": 73,
   "id": "1643011d",
   "metadata": {},
   "outputs": [
    {
     "name": "stdout",
     "output_type": "stream",
     "text": [
      "[[ 1  2  3  4]\n",
      " [ 5  6  7  8]\n",
      " [ 9 10 11 12]]\n"
     ]
    }
   ],
   "source": [
    "a=np.array([[1,2,3,4],[5,6,7,8],[9,10,11,12]])\n",
    "print(a)"
   ]
  },
  {
   "cell_type": "code",
   "execution_count": 75,
   "id": "d66cc770",
   "metadata": {},
   "outputs": [
    {
     "name": "stdout",
     "output_type": "stream",
     "text": [
      "[1 2 3 4]\n"
     ]
    }
   ],
   "source": [
    "b1=a[0,:]\n",
    "print(b1)"
   ]
  },
  {
   "cell_type": "code",
   "execution_count": 76,
   "id": "e9e8e500",
   "metadata": {},
   "outputs": [
    {
     "name": "stdout",
     "output_type": "stream",
     "text": [
      "[99  2  3  4]\n"
     ]
    }
   ],
   "source": [
    "b1[0]=99\n",
    "print(b1)"
   ]
  },
  {
   "cell_type": "code",
   "execution_count": 77,
   "id": "4358a5f2",
   "metadata": {},
   "outputs": [
    {
     "name": "stdout",
     "output_type": "stream",
     "text": [
      "[[99  2  3  4]\n",
      " [ 5  6  7  8]\n",
      " [ 9 10 11 12]]\n"
     ]
    }
   ],
   "source": [
    "print(a)"
   ]
  },
  {
   "cell_type": "code",
   "execution_count": 78,
   "id": "b43fc9ca",
   "metadata": {},
   "outputs": [],
   "source": [
    "b2=a.copy()"
   ]
  },
  {
   "cell_type": "code",
   "execution_count": 79,
   "id": "38a3aa03",
   "metadata": {},
   "outputs": [],
   "source": [
    "### Binary array operations"
   ]
  },
  {
   "cell_type": "code",
   "execution_count": 81,
   "id": "4f0f5585",
   "metadata": {},
   "outputs": [
    {
     "data": {
      "text/plain": [
       "array([2, 3])"
      ]
     },
     "execution_count": 81,
     "metadata": {},
     "output_type": "execute_result"
    }
   ],
   "source": [
    "data=np.array([1,2])\n",
    "one=np.ones(2, dtype=int)\n",
    "data+one"
   ]
  },
  {
   "cell_type": "code",
   "execution_count": 82,
   "id": "be6a5e92",
   "metadata": {},
   "outputs": [
    {
     "data": {
      "text/plain": [
       "array([0, 1])"
      ]
     },
     "execution_count": 82,
     "metadata": {},
     "output_type": "execute_result"
    }
   ],
   "source": [
    "data-one"
   ]
  },
  {
   "cell_type": "code",
   "execution_count": 83,
   "id": "508b33e0",
   "metadata": {},
   "outputs": [
    {
     "data": {
      "text/plain": [
       "array([1., 2.])"
      ]
     },
     "execution_count": 83,
     "metadata": {},
     "output_type": "execute_result"
    }
   ],
   "source": [
    "data/one"
   ]
  },
  {
   "cell_type": "code",
   "execution_count": 84,
   "id": "1b800160",
   "metadata": {},
   "outputs": [
    {
     "data": {
      "text/plain": [
       "10"
      ]
     },
     "execution_count": 84,
     "metadata": {},
     "output_type": "execute_result"
    }
   ],
   "source": [
    "a=np.array([1,2,3,4])\n",
    "a.sum()"
   ]
  },
  {
   "cell_type": "code",
   "execution_count": 86,
   "id": "bec0ee6f",
   "metadata": {},
   "outputs": [
    {
     "name": "stdout",
     "output_type": "stream",
     "text": [
      "[3 3]\n",
      "[2 4]\n"
     ]
    }
   ],
   "source": [
    "b=np.array([[1,1],[2,2]])\n",
    "print(b.sum(axis=0))\n",
    "print(b.sum(axis=1))"
   ]
  },
  {
   "cell_type": "code",
   "execution_count": 87,
   "id": "2e34f75e",
   "metadata": {},
   "outputs": [
    {
     "data": {
      "text/plain": [
       "array([1.6, 3.2])"
      ]
     },
     "execution_count": 87,
     "metadata": {},
     "output_type": "execute_result"
    }
   ],
   "source": [
    "data=np.array([1.0,2.0])\n",
    "data*1.6"
   ]
  },
  {
   "cell_type": "code",
   "execution_count": 88,
   "id": "53b4f862",
   "metadata": {},
   "outputs": [
    {
     "name": "stdout",
     "output_type": "stream",
     "text": [
      "2.0\n",
      "1.0\n"
     ]
    },
    {
     "data": {
      "text/plain": [
       "3.0"
      ]
     },
     "execution_count": 88,
     "metadata": {},
     "output_type": "execute_result"
    }
   ],
   "source": [
    "print(data.max())\n",
    "print(data.min())\n",
    "data.sum()"
   ]
  },
  {
   "cell_type": "code",
   "execution_count": 90,
   "id": "3a374102",
   "metadata": {},
   "outputs": [
    {
     "data": {
      "text/plain": [
       "array([[2, 3],\n",
       "       [4, 5],\n",
       "       [6, 7]])"
      ]
     },
     "execution_count": 90,
     "metadata": {},
     "output_type": "execute_result"
    }
   ],
   "source": [
    "data=np.array([[1,2],[3,4],[5,6]])\n",
    "one=np.array([[1,1]])\n",
    "data+one"
   ]
  },
  {
   "cell_type": "code",
   "execution_count": 91,
   "id": "e8e25a3c",
   "metadata": {},
   "outputs": [
    {
     "name": "stdout",
     "output_type": "stream",
     "text": [
      "[11 12 13 14 15 16]\n"
     ]
    }
   ],
   "source": [
    "a=np.array([11,12,11,13,14,15,16,14,13,15])\n",
    "print(np.unique(a))"
   ]
  },
  {
   "cell_type": "code",
   "execution_count": 92,
   "id": "dc4c6fde",
   "metadata": {},
   "outputs": [
    {
     "data": {
      "text/plain": [
       "array([[1, 2],\n",
       "       [3, 4],\n",
       "       [5, 6]])"
      ]
     },
     "execution_count": 92,
     "metadata": {},
     "output_type": "execute_result"
    }
   ],
   "source": [
    "data"
   ]
  },
  {
   "cell_type": "code",
   "execution_count": 93,
   "id": "d064d3cc",
   "metadata": {},
   "outputs": [
    {
     "data": {
      "text/plain": [
       "array([[1, 2, 3],\n",
       "       [4, 5, 6]])"
      ]
     },
     "execution_count": 93,
     "metadata": {},
     "output_type": "execute_result"
    }
   ],
   "source": [
    "data.reshape(2,3)"
   ]
  },
  {
   "cell_type": "code",
   "execution_count": 94,
   "id": "9aa683e4",
   "metadata": {},
   "outputs": [
    {
     "data": {
      "text/plain": [
       "array([[1, 2],\n",
       "       [3, 4],\n",
       "       [5, 6]])"
      ]
     },
     "execution_count": 94,
     "metadata": {},
     "output_type": "execute_result"
    }
   ],
   "source": [
    "data.reshape(3,2)"
   ]
  },
  {
   "cell_type": "code",
   "execution_count": 95,
   "id": "4ac2d1ae",
   "metadata": {},
   "outputs": [
    {
     "data": {
      "text/plain": [
       "array([[1, 3, 5],\n",
       "       [2, 4, 6]])"
      ]
     },
     "execution_count": 95,
     "metadata": {},
     "output_type": "execute_result"
    }
   ],
   "source": [
    "data.transpose()"
   ]
  },
  {
   "cell_type": "code",
   "execution_count": 96,
   "id": "14052e28",
   "metadata": {},
   "outputs": [
    {
     "data": {
      "text/plain": [
       "array([[1, 3, 5],\n",
       "       [2, 4, 6]])"
      ]
     },
     "execution_count": 96,
     "metadata": {},
     "output_type": "execute_result"
    }
   ],
   "source": [
    "data.T"
   ]
  },
  {
   "cell_type": "code",
   "execution_count": 97,
   "id": "841e6461",
   "metadata": {},
   "outputs": [
    {
     "data": {
      "text/plain": [
       "array([8, 7, 6, 5, 4, 3, 2, 1])"
      ]
     },
     "execution_count": 97,
     "metadata": {},
     "output_type": "execute_result"
    }
   ],
   "source": [
    "arr=np.array([1,2,3,4,5,6,7,8])\n",
    "np.flip(arr)"
   ]
  },
  {
   "cell_type": "code",
   "execution_count": 98,
   "id": "b35a805c",
   "metadata": {},
   "outputs": [
    {
     "data": {
      "text/plain": [
       "array([8, 7, 6, 5, 4, 3, 2, 1])"
      ]
     },
     "execution_count": 98,
     "metadata": {},
     "output_type": "execute_result"
    }
   ],
   "source": [
    "arr[::-1]"
   ]
  },
  {
   "cell_type": "code",
   "execution_count": 12,
   "id": "197c04a4",
   "metadata": {},
   "outputs": [
    {
     "data": {
      "text/plain": [
       "array([[12, 11, 10,  9],\n",
       "       [ 8,  7,  6,  5],\n",
       "       [ 4,  3,  2,  1]])"
      ]
     },
     "execution_count": 12,
     "metadata": {},
     "output_type": "execute_result"
    }
   ],
   "source": [
    "arr_2d = np.array([[1,2,3,4],[5,6,7,8],[9,10,11,12]])\n",
    "np.flip(arr_2d)"
   ]
  },
  {
   "cell_type": "code",
   "execution_count": 100,
   "id": "17b1f867",
   "metadata": {},
   "outputs": [
    {
     "data": {
      "text/plain": [
       "array([[ 9, 10, 11, 12],\n",
       "       [ 5,  6,  7,  8],\n",
       "       [ 1,  2,  3,  4]])"
      ]
     },
     "execution_count": 100,
     "metadata": {},
     "output_type": "execute_result"
    }
   ],
   "source": [
    "np.flip(arr_2d, axis=0)"
   ]
  },
  {
   "cell_type": "code",
   "execution_count": 103,
   "id": "02b76727",
   "metadata": {},
   "outputs": [
    {
     "data": {
      "text/plain": [
       "array([[ 4,  3,  2,  1],\n",
       "       [ 8,  7,  6,  5],\n",
       "       [12, 11, 10,  9]])"
      ]
     },
     "execution_count": 103,
     "metadata": {},
     "output_type": "execute_result"
    }
   ],
   "source": [
    "np.flip(arr_2d, axis=1)"
   ]
  },
  {
   "cell_type": "code",
   "execution_count": 105,
   "id": "f3dc1126",
   "metadata": {},
   "outputs": [
    {
     "data": {
      "text/plain": [
       "array([ 1,  2,  3,  4,  5,  6,  7,  8,  9, 10, 11, 12])"
      ]
     },
     "execution_count": 105,
     "metadata": {},
     "output_type": "execute_result"
    }
   ],
   "source": [
    "x=np.array([[1,2,3,4,],[5,6,7,8],[9,10,11,12]])\n",
    "x.flatten()"
   ]
  },
  {
   "cell_type": "code",
   "execution_count": 106,
   "id": "d080b7f6",
   "metadata": {},
   "outputs": [
    {
     "name": "stdout",
     "output_type": "stream",
     "text": [
      "[[ 1  2  3  4]\n",
      " [ 5  6  7  8]\n",
      " [ 9 10 11 12]]\n",
      "[99  2  3  4  5  6  7  8  9 10 11 12]\n"
     ]
    }
   ],
   "source": [
    "a1=x.flatten()\n",
    "a1[0]=99\n",
    "print(x)\n",
    "print(a1)"
   ]
  },
  {
   "cell_type": "code",
   "execution_count": 107,
   "id": "b320ce4c",
   "metadata": {},
   "outputs": [],
   "source": [
    "a2=x.ravel()\n",
    "a2[0]=98"
   ]
  },
  {
   "cell_type": "code",
   "execution_count": 108,
   "id": "a5261b5e",
   "metadata": {},
   "outputs": [
    {
     "name": "stdout",
     "output_type": "stream",
     "text": [
      "[[98  2  3  4]\n",
      " [ 5  6  7  8]\n",
      " [ 9 10 11 12]]\n",
      "[98  2  3  4  5  6  7  8  9 10 11 12]\n"
     ]
    }
   ],
   "source": [
    "print(x)\n",
    "print(a2)"
   ]
  },
  {
   "cell_type": "code",
   "execution_count": 3,
   "id": "8f976a24",
   "metadata": {},
   "outputs": [
    {
     "name": "stdout",
     "output_type": "stream",
     "text": [
      "[[1 2 3 4]\n",
      " [5 6 7 8]]\n"
     ]
    }
   ],
   "source": [
    "a=np.array([[1,2,3,4],[5,6,7,8]])\n",
    "print(a)"
   ]
  },
  {
   "cell_type": "code",
   "execution_count": 5,
   "id": "c1c3fb45",
   "metadata": {},
   "outputs": [
    {
     "name": "stdout",
     "output_type": "stream",
     "text": [
      "[[1 2]\n",
      " [3 4]\n",
      " [5 6]\n",
      " [7 8]]\n"
     ]
    }
   ],
   "source": [
    "b= a.reshape(4,2)\n",
    "print(b)"
   ]
  },
  {
   "cell_type": "code",
   "execution_count": 7,
   "id": "b2445103",
   "metadata": {},
   "outputs": [
    {
     "name": "stdout",
     "output_type": "stream",
     "text": [
      "[[1 5]\n",
      " [2 6]\n",
      " [3 7]\n",
      " [4 8]]\n"
     ]
    }
   ],
   "source": [
    "b=a.T\n",
    "print(b)"
   ]
  },
  {
   "cell_type": "code",
   "execution_count": 9,
   "id": "8b8d027b",
   "metadata": {},
   "outputs": [
    {
     "name": "stdout",
     "output_type": "stream",
     "text": [
      "[1 2 3 4 5 6 7 8]\n"
     ]
    }
   ],
   "source": [
    "b= np.ravel(a)\n",
    "print(b)"
   ]
  },
  {
   "cell_type": "code",
   "execution_count": 10,
   "id": "579d87be",
   "metadata": {},
   "outputs": [],
   "source": [
    "b= a.flatten()"
   ]
  },
  {
   "cell_type": "code",
   "execution_count": 11,
   "id": "cff51d1c",
   "metadata": {},
   "outputs": [
    {
     "name": "stdout",
     "output_type": "stream",
     "text": [
      "[1 2 3 4 5 6 7 8]\n"
     ]
    }
   ],
   "source": [
    "print(b)"
   ]
  },
  {
   "cell_type": "code",
   "execution_count": 13,
   "id": "44b4fd10",
   "metadata": {},
   "outputs": [],
   "source": [
    "arr1=np.array([[1,2,3,4],[5,6,7,8]])\n",
    "arr2=np.array([[9,10,11,12], [13,14,15,16]])"
   ]
  },
  {
   "cell_type": "code",
   "execution_count": 15,
   "id": "d2cb2e13",
   "metadata": {},
   "outputs": [
    {
     "name": "stdout",
     "output_type": "stream",
     "text": [
      "[[ 1  2  3  4]\n",
      " [ 5  6  7  8]\n",
      " [ 9 10 11 12]\n",
      " [13 14 15 16]]\n"
     ]
    }
   ],
   "source": [
    "arr3=z= np.concatenate((arr1,arr2),axis=0)\n",
    "print(arr3)"
   ]
  },
  {
   "cell_type": "code",
   "execution_count": 17,
   "id": "b0ef8620",
   "metadata": {},
   "outputs": [
    {
     "data": {
      "text/plain": [
       "array([[[ 1,  2,  3,  4],\n",
       "        [ 5,  6,  7,  8]],\n",
       "\n",
       "       [[ 9, 10, 11, 12],\n",
       "        [13, 14, 15, 16]]])"
      ]
     },
     "execution_count": 17,
     "metadata": {},
     "output_type": "execute_result"
    }
   ],
   "source": [
    "np.stack((arr1, arr2))"
   ]
  },
  {
   "cell_type": "code",
   "execution_count": 18,
   "id": "9c2bba3d",
   "metadata": {},
   "outputs": [
    {
     "data": {
      "text/plain": [
       "array([[ 1,  2,  3,  4],\n",
       "       [ 5,  6,  7,  8],\n",
       "       [ 9, 10, 11, 12],\n",
       "       [13, 14, 15, 16]])"
      ]
     },
     "execution_count": 18,
     "metadata": {},
     "output_type": "execute_result"
    }
   ],
   "source": [
    "np.vstack((arr1,arr2))"
   ]
  },
  {
   "cell_type": "code",
   "execution_count": 19,
   "id": "e81caef3",
   "metadata": {},
   "outputs": [
    {
     "data": {
      "text/plain": [
       "array([[ 1,  2,  3,  4,  9, 10, 11, 12],\n",
       "       [ 5,  6,  7,  8, 13, 14, 15, 16]])"
      ]
     },
     "execution_count": 19,
     "metadata": {},
     "output_type": "execute_result"
    }
   ],
   "source": [
    "np.hstack((arr1,arr2))"
   ]
  },
  {
   "cell_type": "code",
   "execution_count": 20,
   "id": "4c5cd582",
   "metadata": {},
   "outputs": [
    {
     "ename": "ValueError",
     "evalue": "array split does not result in an equal division",
     "output_type": "error",
     "traceback": [
      "\u001b[1;31m---------------------------------------------------------------------------\u001b[0m",
      "\u001b[1;31mValueError\u001b[0m                                Traceback (most recent call last)",
      "Cell \u001b[1;32mIn[20], line 1\u001b[0m\n\u001b[1;32m----> 1\u001b[0m \u001b[43mnp\u001b[49m\u001b[38;5;241;43m.\u001b[39;49m\u001b[43msplit\u001b[49m\u001b[43m(\u001b[49m\u001b[43marr1\u001b[49m\u001b[43m,\u001b[49m\u001b[38;5;241;43m3\u001b[39;49m\u001b[43m)\u001b[49m\n",
      "File \u001b[1;32mc:\\Users\\icfai\\anaconda3\\Lib\\site-packages\\numpy\\lib\\shape_base.py:864\u001b[0m, in \u001b[0;36msplit\u001b[1;34m(ary, indices_or_sections, axis)\u001b[0m\n\u001b[0;32m    862\u001b[0m     N \u001b[38;5;241m=\u001b[39m ary\u001b[38;5;241m.\u001b[39mshape[axis]\n\u001b[0;32m    863\u001b[0m     \u001b[38;5;28;01mif\u001b[39;00m N \u001b[38;5;241m%\u001b[39m sections:\n\u001b[1;32m--> 864\u001b[0m         \u001b[38;5;28;01mraise\u001b[39;00m \u001b[38;5;167;01mValueError\u001b[39;00m(\n\u001b[0;32m    865\u001b[0m             \u001b[38;5;124m'\u001b[39m\u001b[38;5;124marray split does not result in an equal division\u001b[39m\u001b[38;5;124m'\u001b[39m) \u001b[38;5;28;01mfrom\u001b[39;00m \u001b[38;5;28;01mNone\u001b[39;00m\n\u001b[0;32m    866\u001b[0m \u001b[38;5;28;01mreturn\u001b[39;00m array_split(ary, indices_or_sections, axis)\n",
      "\u001b[1;31mValueError\u001b[0m: array split does not result in an equal division"
     ]
    }
   ],
   "source": [
    "np.split(arr1,3)"
   ]
  },
  {
   "cell_type": "code",
   "execution_count": 21,
   "id": "28632be3",
   "metadata": {},
   "outputs": [
    {
     "name": "stdout",
     "output_type": "stream",
     "text": [
      "[[  9  20  33  48]\n",
      " [ 65  84 105 128]]\n"
     ]
    }
   ],
   "source": [
    "arr_mulp=np.multiply(arr1,arr2)\n",
    "print(arr_mulp)\n"
   ]
  },
  {
   "cell_type": "code",
   "execution_count": 23,
   "id": "908a8086",
   "metadata": {},
   "outputs": [
    {
     "name": "stdout",
     "output_type": "stream",
     "text": [
      "[[19 22]\n",
      " [43 50]]\n"
     ]
    }
   ],
   "source": [
    "arr1=np.array([[1,2],[3,4]])\n",
    "arr2=np.array([[5,6],[7,8]])\n",
    "\n",
    "arr_mulp=np.matmul(arr1, arr2)\n",
    "print(arr_mulp)"
   ]
  },
  {
   "cell_type": "code",
   "execution_count": 25,
   "id": "cc1a591b",
   "metadata": {},
   "outputs": [
    {
     "name": "stdout",
     "output_type": "stream",
     "text": [
      "[[19 22]\n",
      " [43 50]]\n"
     ]
    }
   ],
   "source": [
    "arr_mulp=np.dot(arr1, arr2)\n",
    "print(arr_mulp)"
   ]
  },
  {
   "cell_type": "code",
   "execution_count": 26,
   "id": "679a94d4",
   "metadata": {},
   "outputs": [
    {
     "data": {
      "text/plain": [
       "12"
      ]
     },
     "execution_count": 26,
     "metadata": {},
     "output_type": "execute_result"
    }
   ],
   "source": [
    "np.dot(3,4)"
   ]
  },
  {
   "cell_type": "markdown",
   "id": "2722c4fb",
   "metadata": {},
   "source": [
    "### Random Module"
   ]
  },
  {
   "cell_type": "code",
   "execution_count": 27,
   "id": "f1402ee1",
   "metadata": {},
   "outputs": [],
   "source": [
    "mu, sigma= 0,0.1\n",
    "s=np.random.normal(mu, sigma, 1000)"
   ]
  },
  {
   "cell_type": "code",
   "execution_count": 28,
   "id": "16edfae1",
   "metadata": {},
   "outputs": [
    {
     "data": {
      "text/plain": [
       "array([ 7.61698910e-02, -9.66463154e-02,  8.59370808e-04,  1.06301528e-01,\n",
       "        1.07686501e-02,  8.08997704e-02,  9.13731502e-03,  5.74134610e-02,\n",
       "       -3.15039388e-01,  6.87355873e-02,  1.18342476e-02,  1.92991662e-04,\n",
       "       -7.40267490e-02, -8.24921462e-02,  1.32307437e-01, -8.60765568e-02,\n",
       "        6.97092267e-02,  2.69966267e-01,  1.14879675e-01, -2.49087428e-02,\n",
       "        1.15578591e-01, -6.44470316e-02, -1.83199664e-02, -1.80616358e-02,\n",
       "       -2.66185753e-02, -1.50888337e-02, -4.00021505e-02,  7.21692692e-02,\n",
       "       -6.06655052e-02, -6.90375125e-02, -8.71474971e-03, -1.37864682e-01,\n",
       "        1.79313552e-02, -6.01436971e-02,  1.44936321e-02,  9.32525971e-02,\n",
       "       -1.43579158e-01, -5.70063655e-02, -1.50420747e-01,  1.01488573e-01,\n",
       "        6.19836651e-02, -3.69863440e-02,  4.90601097e-02, -2.85216017e-02,\n",
       "       -3.87216278e-02,  7.71446123e-02, -9.13729296e-02, -4.28112266e-02,\n",
       "        9.62640343e-02, -2.50084446e-02, -7.74881829e-02,  1.51122436e-02,\n",
       "        2.13405581e-01, -4.07616425e-02,  7.22750192e-02,  5.31368169e-02,\n",
       "       -1.69372808e-02, -8.75468163e-02, -9.77975824e-02, -4.67967580e-02,\n",
       "       -1.45059260e-02, -5.81671181e-02, -5.37371002e-02, -9.57735365e-02,\n",
       "        1.02336405e-01, -9.22379918e-02,  6.44802885e-02, -6.84587294e-02,\n",
       "       -5.60050339e-02, -1.26783114e-01, -9.02326315e-02,  1.26929610e-01,\n",
       "        4.29417416e-02,  1.26072338e-01, -1.12246953e-01, -1.06622197e-01,\n",
       "        1.47439129e-01, -4.58445926e-02,  6.88607346e-02,  6.38237754e-02,\n",
       "       -6.58396217e-02, -1.42350180e-01,  7.03940657e-02, -1.09146143e-01,\n",
       "       -3.01787821e-02, -1.39033179e-02,  1.97124184e-02, -6.85370516e-02,\n",
       "        4.12722307e-03,  9.35234586e-02, -1.80997606e-02,  1.50610978e-02,\n",
       "       -4.60956115e-02,  1.86825656e-01, -1.93138615e-01, -1.47969957e-02,\n",
       "       -1.45946115e-02,  8.18788318e-02,  8.74044645e-03, -3.71820913e-02,\n",
       "        8.29398756e-02, -1.21220391e-01,  1.07771352e-01,  1.80902090e-02,\n",
       "        1.01487292e-03,  8.68438034e-02,  8.93422513e-02,  9.11137214e-02,\n",
       "        7.32344756e-02,  6.46238670e-02, -1.35152600e-01, -2.00357638e-02,\n",
       "       -2.87451132e-03,  2.66784807e-02,  2.77829453e-02, -2.23343409e-02,\n",
       "        7.80813621e-02,  3.57354245e-02, -2.09490841e-01,  3.82540145e-02,\n",
       "       -1.04139493e-01,  1.11888134e-01,  3.71589847e-03,  1.72216433e-01,\n",
       "       -4.07480565e-03, -2.76883158e-02,  1.38574633e-02, -7.83109222e-02,\n",
       "        1.74794542e-01,  8.19690761e-03, -1.26560472e-02,  4.69956929e-03,\n",
       "       -1.67295070e-02,  6.56365041e-02,  8.25267759e-02,  5.76487545e-02,\n",
       "        1.09594861e-01,  1.08890352e-01,  3.97296694e-02,  8.89105536e-02,\n",
       "       -8.60315814e-02, -6.64561105e-02,  3.76930484e-02,  1.94643845e-01,\n",
       "        8.31437901e-02,  1.08410807e-01, -4.62215786e-04, -1.36004896e-01,\n",
       "        6.91343772e-02, -5.66148848e-02,  1.49618377e-01, -1.31575420e-01,\n",
       "       -2.24594179e-01, -2.77384751e-01,  1.15634113e-01,  1.93307624e-01,\n",
       "       -8.31097527e-02, -1.29329144e-01, -1.25002693e-01, -4.81310215e-02,\n",
       "       -2.36872944e-02, -6.91578497e-02,  2.57157533e-02, -1.24753801e-01,\n",
       "       -2.66757598e-02,  1.37867031e-01, -9.61308618e-02,  1.77669007e-01,\n",
       "        1.20285539e-01,  2.50540823e-02, -2.12312611e-01,  1.37404508e-04,\n",
       "        6.54616311e-02,  7.30560812e-02,  1.12970699e-01, -2.32642896e-02,\n",
       "       -1.27594874e-01, -4.91634544e-02, -2.54763552e-01, -3.04080902e-02,\n",
       "        5.45546461e-02, -1.78522145e-01,  7.11636148e-02,  1.01120292e-01,\n",
       "       -1.00386828e-01,  5.45294439e-02, -3.80877045e-02,  1.29600005e-01,\n",
       "       -6.71670486e-03,  4.86773932e-03,  9.37304737e-02, -4.75020747e-02,\n",
       "       -1.56312097e-02,  2.89885812e-02, -1.01383241e-01,  2.42041235e-02,\n",
       "       -1.90592802e-01,  1.48797007e-01, -1.65252251e-01,  1.38582029e-01,\n",
       "        1.50112650e-01, -1.23262818e-01,  1.47544016e-01, -2.35053613e-01,\n",
       "       -8.26700910e-02,  8.59753233e-02,  1.15169699e-01, -6.17600389e-02,\n",
       "        2.04974088e-01, -1.84419444e-02, -5.73606495e-02, -5.79574610e-02,\n",
       "        1.02199158e-01,  5.97302518e-02, -2.37199357e-01,  1.06204824e-01,\n",
       "        1.68208077e-01,  8.55608597e-03,  3.20965213e-03,  4.42089565e-02,\n",
       "        2.13142973e-02, -1.72718216e-02, -9.80187157e-02, -7.57048630e-02,\n",
       "        2.23658974e-01,  7.01707408e-02,  5.57982360e-03,  8.67844909e-02,\n",
       "       -2.45109322e-01,  1.21790034e-02, -1.34280465e-01, -1.05672677e-01,\n",
       "       -1.04169084e-01,  5.55292223e-02, -8.80455945e-02,  9.67355911e-02,\n",
       "        1.02217051e-01, -5.34610690e-03, -9.46251126e-02,  1.09790757e-01,\n",
       "       -8.01571727e-02,  1.07901064e-01,  4.90892404e-02,  1.48378814e-02,\n",
       "        1.00143583e-01,  1.35728887e-01,  1.55673511e-01,  8.00604542e-02,\n",
       "        5.78835177e-02, -2.56558181e-01,  7.47041508e-02,  1.13028412e-02,\n",
       "        3.04567293e-02,  1.12585898e-02,  5.79194446e-02,  1.71504772e-02,\n",
       "       -2.09921514e-01, -1.59781643e-01, -1.91763724e-01, -3.71344536e-02,\n",
       "        1.54499367e-01,  1.37557277e-01, -9.15692359e-02,  6.04620323e-02,\n",
       "        1.11375064e-01, -1.11561207e-01,  5.50175974e-03, -9.04179908e-02,\n",
       "        1.82786725e-02, -4.40446045e-02, -1.71677625e-01, -2.28307824e-01,\n",
       "        4.28530513e-02,  1.11374415e-01, -1.52422848e-02,  1.16606301e-01,\n",
       "        9.02969234e-02,  3.32139386e-02, -4.34944310e-02, -2.00003197e-01,\n",
       "       -4.50975177e-02,  4.59234742e-02,  1.14433245e-01, -7.77094753e-03,\n",
       "        9.74275201e-02,  2.00777017e-01,  9.79421074e-02, -1.17441552e-02,\n",
       "       -5.97572744e-02, -9.70875472e-02,  1.32812670e-01,  7.73180465e-02,\n",
       "       -9.24399637e-02,  1.19451180e-02,  2.74580897e-02,  4.82629363e-02,\n",
       "        8.70405860e-02,  1.18929404e-01, -1.25992379e-01,  7.20582410e-03,\n",
       "       -1.37904507e-01, -8.86028302e-02, -6.49459359e-02,  7.44807571e-02,\n",
       "       -2.23185849e-01,  1.00031329e-01,  5.89866965e-02, -1.82330597e-01,\n",
       "        2.54975252e-02,  1.19752052e-01,  9.84447707e-02, -1.00488207e-01,\n",
       "        7.16990724e-02,  7.35691358e-02, -4.35847712e-02,  4.72647628e-02,\n",
       "       -1.61340635e-01, -2.41095681e-01, -8.10091207e-03, -5.79235701e-02,\n",
       "       -1.42692931e-01, -7.81704971e-02, -6.30357242e-02, -1.36217401e-01,\n",
       "       -7.97205580e-02, -1.73492347e-02, -2.87930677e-02, -3.63052308e-02,\n",
       "       -8.43925819e-03,  2.64268545e-01, -4.08954416e-02,  1.18304886e-01,\n",
       "        1.87503747e-01, -5.20699811e-02,  2.53428381e-02, -9.03398732e-02,\n",
       "       -1.28137409e-01,  4.79458527e-02,  5.89081435e-02,  5.14847727e-02,\n",
       "        6.89030821e-02,  1.08702391e-02, -1.53148524e-02, -6.07827626e-03,\n",
       "       -8.90631731e-02,  2.39334379e-02,  1.42398746e-01,  1.53940680e-01,\n",
       "       -1.07315213e-02, -3.80061567e-02,  1.34530671e-01, -1.20074315e-01,\n",
       "       -8.51331290e-02, -2.08414790e-02,  1.34845224e-01, -2.20429216e-01,\n",
       "        4.96851426e-02,  9.24322154e-02, -5.95186816e-02, -1.37543105e-01,\n",
       "        1.10736587e-01,  9.68688817e-02, -5.04244059e-02,  9.19819206e-03,\n",
       "        1.42817806e-01,  7.66490164e-02, -2.01448705e-01,  3.99864394e-02,\n",
       "        6.42225976e-02, -1.40514149e-01,  4.63359000e-02, -6.03576677e-02,\n",
       "        1.18191237e-02,  5.80604060e-04, -2.77186396e-02, -7.92478928e-03,\n",
       "       -3.42647387e-02, -8.20352690e-02,  6.16262965e-02, -4.72178731e-03,\n",
       "        2.51850994e-02,  3.98831369e-02,  7.39623520e-02, -8.88931396e-02,\n",
       "       -1.07219342e-01, -4.13461346e-02, -7.88762894e-02,  3.63775868e-02,\n",
       "       -4.81287265e-02, -2.84108818e-02, -5.55400271e-02, -1.14019458e-01,\n",
       "        5.18728486e-02,  2.81706462e-02,  7.50467990e-02,  7.23619036e-02,\n",
       "       -1.54998204e-01, -1.15464371e-01,  4.43745106e-02, -1.86469615e-01,\n",
       "        7.59322790e-02,  5.59223511e-02,  4.21626197e-03,  2.05205740e-02,\n",
       "       -4.87869942e-02, -1.47132233e-02,  1.10362143e-01,  6.56864947e-02,\n",
       "       -5.00632641e-02, -1.09385977e-01,  2.40161468e-01, -1.07496114e-01,\n",
       "        2.02164244e-02,  1.02326701e-01, -4.34917019e-02, -8.85210661e-02,\n",
       "       -1.56446492e-01, -2.69378564e-02, -9.35718730e-03, -6.97749017e-02,\n",
       "        1.59782887e-01,  1.17565798e-02, -2.02652691e-02, -9.00414108e-02,\n",
       "       -9.99466210e-02, -7.83641210e-03,  1.40278700e-01,  4.19096239e-02,\n",
       "       -4.76600569e-02,  1.45534431e-01,  3.51451113e-02, -1.19314738e-01,\n",
       "        4.94863685e-02, -9.25747942e-03,  1.15670275e-01,  7.81026714e-02,\n",
       "        1.42688969e-01, -2.61185121e-02,  1.66306237e-01, -1.16982062e-01,\n",
       "       -1.23186088e-02,  1.19754652e-01, -1.86845562e-01,  1.80571249e-01,\n",
       "       -7.28385728e-03,  8.20420773e-02, -2.53499535e-01, -2.18346004e-02,\n",
       "        5.76723825e-02, -1.34732831e-02, -2.54489359e-01,  3.98796443e-02,\n",
       "       -3.29413551e-02, -3.90133968e-02, -9.60145562e-02, -3.41199432e-02,\n",
       "        2.52537114e-02,  7.02221178e-02,  2.77324218e-02,  1.10734737e-01,\n",
       "        8.05139608e-02,  5.18641696e-02,  2.04216777e-01,  2.10439690e-01,\n",
       "        2.23163650e-02,  6.59817123e-02, -1.78628531e-01, -6.41933367e-02,\n",
       "       -6.97618806e-02,  4.14297533e-02, -5.26516496e-02,  9.84587598e-03,\n",
       "       -3.13433938e-02, -5.42769784e-02, -4.49880343e-02,  8.55256501e-03,\n",
       "       -5.87123390e-03, -6.45916144e-02,  9.57650035e-02,  1.84351131e-02,\n",
       "        8.65344255e-02, -6.01486325e-02, -5.31898776e-02,  3.85528870e-02,\n",
       "        1.82592377e-01, -1.98825773e-01,  3.37837125e-02, -1.00094174e-01,\n",
       "        4.08736560e-02,  3.97538220e-02, -2.35136568e-02, -9.21875921e-02,\n",
       "        2.46152640e-01, -1.02749651e-01, -1.53947126e-01,  9.25054973e-02,\n",
       "       -5.34941437e-02,  9.58585662e-03, -1.03844116e-02,  3.41414643e-02,\n",
       "        5.19737313e-02,  5.89673774e-02,  1.96931059e-02, -6.22610718e-02,\n",
       "        1.01696638e-02,  9.90794684e-02, -2.69064846e-02,  3.07271927e-03,\n",
       "       -1.05297333e-01, -3.02054298e-02, -5.80420211e-02, -8.55744385e-02,\n",
       "        1.29970774e-01, -9.15563719e-03, -7.73271731e-02,  6.88433367e-02,\n",
       "       -7.69566510e-02, -1.04796596e-01,  5.45754617e-02,  1.26758799e-01,\n",
       "       -6.05758488e-02,  8.30448080e-02, -8.14952630e-02,  4.27950448e-02,\n",
       "       -1.37251919e-01, -5.46266806e-02, -3.69197065e-02, -1.12752053e-01,\n",
       "        3.94336655e-04,  7.32182582e-02, -1.16845141e-01, -1.01787991e-01,\n",
       "        1.57268035e-01, -2.30445675e-02, -2.43854141e-02,  8.43076984e-02,\n",
       "        1.80700666e-01, -5.08233970e-02,  2.02527579e-01,  4.04998617e-02,\n",
       "        2.22203184e-01,  1.99868769e-01, -1.73162315e-01,  1.23428151e-01,\n",
       "       -2.63917691e-01,  7.65455671e-02,  1.37002399e-02, -1.17053906e-01,\n",
       "        1.48802585e-02, -1.06786969e-01,  2.93941709e-02,  8.45973550e-03,\n",
       "       -1.77319034e-01,  1.41932602e-01, -1.60800855e-01,  9.18855245e-03,\n",
       "        2.43543528e-02, -2.92986688e-02, -7.04655927e-02,  6.45853834e-02,\n",
       "        1.93696275e-01,  1.29983314e-01,  2.32806984e-02, -2.11928708e-01,\n",
       "        7.51238701e-03,  1.67415382e-02,  2.48353313e-02, -8.41784755e-03,\n",
       "       -1.07422633e-01,  5.74716692e-02,  2.40628019e-01,  3.38369454e-02,\n",
       "        1.49880577e-01,  3.68332814e-02,  5.51208620e-02,  1.58942357e-02,\n",
       "        1.24213733e-01, -2.90621367e-02,  7.56723337e-02, -2.66631381e-02,\n",
       "       -2.14092917e-02,  1.25230990e-02,  6.78648114e-02, -1.20992017e-03,\n",
       "       -2.22858235e-02, -1.33983363e-02, -4.35932135e-02,  1.94688518e-01,\n",
       "       -3.04415737e-02,  1.60377489e-01,  3.74349693e-02,  1.10211879e-01,\n",
       "       -9.06922208e-02,  2.85249870e-02,  1.62376316e-02,  9.54875798e-02,\n",
       "       -4.73862831e-02, -5.44397038e-02,  2.54296924e-02, -1.39401753e-01,\n",
       "        1.20380739e-01,  8.88456237e-02, -5.32512291e-02,  3.41916976e-02,\n",
       "       -5.92539781e-02,  7.92690443e-03, -9.14783605e-02, -8.06833980e-03,\n",
       "        1.82178857e-01, -5.95119645e-02, -6.66337722e-02,  1.40697276e-01,\n",
       "       -5.13950890e-02, -4.87871659e-02, -4.39508567e-02, -7.75368781e-02,\n",
       "        2.87422390e-02,  8.98225598e-02,  2.77405782e-01,  1.00201192e-01,\n",
       "        9.88947355e-02, -2.15670215e-02,  4.05637755e-02,  3.81340768e-02,\n",
       "       -3.81751510e-02,  1.89847870e-02,  5.17787835e-02,  1.40322310e-02,\n",
       "        8.46387410e-02,  2.41108161e-02, -3.98163877e-04,  1.32496320e-01,\n",
       "        5.20592208e-02,  1.37341177e-01, -5.31798678e-02,  2.17058602e-02,\n",
       "        1.43099073e-01, -2.91281431e-02,  1.85229756e-02,  4.30648591e-02,\n",
       "       -3.59493153e-02,  2.63768812e-02, -8.49448097e-02, -3.07624083e-02,\n",
       "       -7.96001850e-03,  4.20835792e-02, -2.11028266e-01, -2.22239077e-01,\n",
       "       -2.61389581e-01, -8.89544865e-02, -1.36709645e-01,  2.37076116e-02,\n",
       "        1.47019477e-04, -1.45441531e-01,  1.20217428e-01,  1.36853452e-01,\n",
       "       -2.08856511e-01,  2.11421834e-02,  1.59486566e-01,  1.58182371e-02,\n",
       "       -9.84952481e-02, -1.86286320e-02,  7.80537863e-02, -5.70567878e-02,\n",
       "        5.16023880e-02, -1.50628586e-01,  1.01365448e-01,  7.63449614e-02,\n",
       "        1.33010708e-02, -1.50622590e-01, -6.15529892e-02,  1.33126166e-01,\n",
       "        3.60030894e-02,  1.17485008e-02,  1.92986042e-02, -1.88719989e-02,\n",
       "       -1.90788852e-02,  6.04523150e-02, -1.72795934e-02, -9.42568033e-02,\n",
       "        1.12557194e-01, -1.11124463e-01, -9.02818128e-02,  3.22904353e-02,\n",
       "       -3.51066049e-02,  1.47032107e-02,  1.00345546e-01,  1.46204968e-02,\n",
       "       -2.93738193e-03,  2.78809009e-03,  4.35593425e-02, -7.20427143e-03,\n",
       "       -1.45692070e-01, -2.38536857e-01,  8.55300005e-03, -1.80255950e-01,\n",
       "       -6.82769678e-02, -2.17212765e-03, -4.83439606e-02, -8.55460108e-02,\n",
       "       -3.85139831e-03, -5.05207724e-02, -8.48065382e-02, -1.51945400e-02,\n",
       "       -9.60569223e-03, -1.34345169e-01, -5.24719576e-02,  2.28195222e-03,\n",
       "        1.23283127e-02,  5.41178117e-02, -2.79751501e-02, -1.45342372e-02,\n",
       "        5.59681198e-02,  9.57868894e-02, -1.03270836e-01,  2.39434935e-02,\n",
       "       -2.38230833e-02, -2.38527102e-02, -1.49205978e-03,  1.18641542e-01,\n",
       "       -3.10905199e-02, -9.14324669e-02, -4.08535601e-02,  6.16537748e-02,\n",
       "        3.82283934e-02, -7.41558462e-02, -6.01282812e-02, -5.01306666e-03,\n",
       "        6.80685859e-02, -7.56001536e-02, -1.18811401e-01, -5.60798709e-02,\n",
       "        4.89431731e-02, -6.18409454e-02,  8.01942384e-02,  3.36112461e-03,\n",
       "       -1.11582610e-01,  6.87040426e-02,  7.00634304e-02,  8.37518932e-02,\n",
       "       -1.83795086e-02,  4.31386223e-02, -6.92253479e-02,  4.16014177e-03,\n",
       "        8.34284830e-02,  1.42750128e-01, -7.87294980e-03,  6.77532982e-03,\n",
       "       -1.26997113e-01,  1.37175131e-02,  3.58041515e-03,  4.00524484e-02,\n",
       "       -2.90102721e-03,  2.82003671e-02,  1.36615550e-01,  5.51705152e-02,\n",
       "       -4.00820315e-02, -1.56907358e-01,  1.33010334e-01,  2.92525471e-02,\n",
       "       -4.24537934e-02, -6.14004022e-02, -4.12005493e-02,  4.53145944e-02,\n",
       "       -4.41576036e-02, -5.09268780e-02, -5.07747184e-02,  1.08082474e-02,\n",
       "       -1.39873640e-01, -1.29790261e-02, -1.27871722e-01, -1.02095279e-01,\n",
       "       -3.49517020e-02,  3.72431995e-02,  4.46729461e-02,  8.39857032e-02,\n",
       "        9.63997018e-02,  2.18960599e-02,  1.61952321e-01, -9.74209804e-02,\n",
       "        4.79727030e-02,  6.50342962e-02, -1.56391142e-01, -2.95963010e-02,\n",
       "        5.93962453e-02, -4.35573835e-02, -1.08192907e-01, -7.84893293e-02,\n",
       "        4.93563558e-02,  3.51988524e-02, -1.13564596e-01,  1.02951023e-01,\n",
       "        1.59847321e-01,  8.05139915e-02, -9.05539612e-02, -2.74459171e-03,\n",
       "        1.45570809e-01,  5.37965371e-02, -7.89425750e-02,  5.93855178e-02,\n",
       "        1.07707165e-01,  2.06974188e-02,  2.85655250e-02, -2.73429791e-02,\n",
       "        3.23044761e-02, -1.33229297e-01,  1.05294333e-01, -3.92224605e-02,\n",
       "       -3.46328392e-02,  1.12661424e-01, -7.20067839e-02, -1.53288066e-01,\n",
       "       -1.27299518e-01,  1.91674433e-01,  6.72517206e-02, -2.45335277e-01,\n",
       "        1.26496186e-01,  6.44255177e-02,  8.69459584e-03, -1.31305101e-01,\n",
       "       -1.74435148e-02,  4.18616199e-02, -3.25830860e-02, -2.41426471e-01,\n",
       "       -9.91289959e-02, -1.28343046e-01,  3.30539034e-02,  4.35572394e-02,\n",
       "        1.56209483e-01, -2.49624592e-02, -1.21324132e-01,  1.50038687e-01,\n",
       "        1.86493495e-02,  5.59415333e-03,  5.80429312e-02, -1.67660437e-01,\n",
       "        1.20848344e-01, -1.65989921e-02, -6.15628423e-02,  1.04128582e-01,\n",
       "       -3.09060341e-02, -1.14395735e-01,  1.49732209e-02,  4.45066400e-02,\n",
       "       -3.68711842e-02,  7.61068153e-02,  2.19800205e-01, -5.81736095e-02,\n",
       "       -3.14846858e-01,  1.25575082e-01, -1.09453757e-01,  1.13104731e-01,\n",
       "       -1.40184471e-01,  4.06798077e-02, -1.94942256e-01,  1.19977069e-01,\n",
       "        1.57145471e-01,  1.15187177e-01, -3.52538596e-02,  1.84168326e-02,\n",
       "       -8.71799619e-02, -6.09392152e-02,  5.64008818e-02,  8.25277746e-02,\n",
       "       -1.11851114e-02, -3.46511760e-02, -1.82199732e-01, -4.46982321e-02,\n",
       "        8.10127809e-02,  1.76248870e-02,  4.99765463e-02, -1.23463253e-01,\n",
       "       -3.44987008e-02, -2.24751968e-01, -9.66182192e-02,  8.15844963e-02,\n",
       "        1.46836993e-01, -1.66457772e-01, -8.75645708e-02, -1.13631262e-01,\n",
       "        1.00517040e-02,  3.94347015e-02,  2.18467351e-02,  1.44833583e-02,\n",
       "        3.43064574e-02,  5.45481334e-04,  1.23521243e-01,  3.05776539e-03,\n",
       "       -3.59439929e-02, -6.59687122e-02,  7.61751787e-02,  2.54425629e-02,\n",
       "       -1.04692327e-01,  5.52362335e-02,  1.61556169e-01, -3.66717044e-02,\n",
       "        6.90583067e-02,  1.70831872e-01,  5.67730123e-02,  3.58962063e-02,\n",
       "        1.99812689e-01,  6.17856774e-02, -8.20384969e-02,  1.49285126e-01,\n",
       "       -3.44679589e-02,  5.18142740e-02,  1.34817193e-01,  1.10541878e-02,\n",
       "       -3.91403739e-02, -1.72478579e-01,  4.50685339e-02,  6.30396650e-02,\n",
       "       -4.25512982e-03, -1.33963335e-01,  1.25644850e-01,  2.03562695e-01,\n",
       "        1.61921562e-01, -7.04567008e-02, -3.82686798e-03, -1.68102868e-01,\n",
       "        1.40330123e-02,  7.25120868e-02,  1.33656264e-01,  5.54526137e-02,\n",
       "       -5.25606948e-02, -2.30041914e-02, -5.92338354e-02,  7.10200481e-02,\n",
       "        2.74912578e-02,  4.44021537e-02,  9.50206642e-03, -7.81452810e-02,\n",
       "        8.22687503e-02, -2.20616622e-03,  1.06192132e-01,  5.23235503e-02,\n",
       "        1.74610643e-02, -3.68541919e-02, -8.88193794e-02,  1.21633361e-01,\n",
       "        8.28751120e-02, -2.08535695e-01, -1.26415086e-02, -5.17833136e-02,\n",
       "        1.79213274e-01,  5.75543178e-02, -8.96445081e-02, -4.10408151e-03,\n",
       "       -1.83342945e-01,  1.24527462e-01, -2.53945889e-02,  3.93020085e-02,\n",
       "       -7.11564299e-03,  4.90933383e-02,  1.87333272e-01, -1.50380225e-01,\n",
       "        1.83840731e-02, -2.83082446e-02,  4.69856882e-02,  2.31578626e-02,\n",
       "        9.83628152e-02, -1.04740557e-01,  2.81576455e-02, -1.52141610e-01,\n",
       "        2.11249188e-02, -4.72801504e-02, -6.00955630e-02,  9.08317226e-02,\n",
       "       -1.21361655e-01, -2.35629074e-01,  1.08257885e-01, -4.50741972e-04,\n",
       "       -9.19733799e-03,  1.20936449e-01,  5.66657560e-02, -1.09749068e-01,\n",
       "        6.29062328e-02, -2.57799574e-02, -5.73500056e-02, -9.34919519e-02,\n",
       "        8.92904091e-03, -1.40518914e-02, -1.78950109e-01,  2.06020292e-02,\n",
       "        6.95123822e-02, -4.43470510e-03,  8.35517844e-02, -5.99211641e-03,\n",
       "       -1.10190281e-01,  1.05116279e-03, -1.53070636e-02, -3.19876246e-02,\n",
       "        1.25284080e-01,  1.56239918e-01, -4.61528289e-02, -1.50001982e-01,\n",
       "        1.14006197e-01,  6.18467488e-02,  9.22124260e-02,  1.58066937e-02])"
      ]
     },
     "execution_count": 28,
     "metadata": {},
     "output_type": "execute_result"
    }
   ],
   "source": [
    "s"
   ]
  },
  {
   "cell_type": "code",
   "execution_count": 29,
   "id": "c633b79b",
   "metadata": {},
   "outputs": [
    {
     "data": {
      "image/png": "[encoded data removed]",
      "text/plain": [
       "<Figure size 640x480 with 1 Axes>"
      ]
     },
     "metadata": {},
     "output_type": "display_data"
    }
   ],
   "source": [
    "import matplotlib.pyplot as plt\n",
    "count, bins, ignored = plt.hist(s,30, density=True)\n",
    "plt.plot(bins, 1/(sigma*np.sqrt(2*np.pi))* np.exp(-(bins-mu)**2/(2*sigma**2)), linewidth =2, color='r')\n",
    "plt.show()"
   ]
  },
  {
   "cell_type": "code",
   "execution_count": 30,
   "id": "36885e8d",
   "metadata": {},
   "outputs": [
    {
     "data": {
      "text/plain": [
       "array([[0.38450559, 0.81860117],\n",
       "       [0.60213963, 0.35503256],\n",
       "       [0.63441674, 0.11623838]])"
      ]
     },
     "execution_count": 30,
     "metadata": {},
     "output_type": "execute_result"
    }
   ],
   "source": [
    "np.random.rand(3,2)"
   ]
  },
  {
   "cell_type": "code",
   "execution_count": 31,
   "id": "2f8bd325",
   "metadata": {},
   "outputs": [
    {
     "data": {
      "text/plain": [
       "array([[0.79894467, 0.5899065 , 0.9282835 , 0.57458628, 0.95275551],\n",
       "       [0.73294325, 0.71466986, 0.84225013, 0.80066264, 0.92583623]])"
      ]
     },
     "execution_count": 31,
     "metadata": {},
     "output_type": "execute_result"
    }
   ],
   "source": [
    "np.random.rand(2,5)"
   ]
  },
  {
   "cell_type": "code",
   "execution_count": 32,
   "id": "64eb7be7",
   "metadata": {},
   "outputs": [
    {
     "data": {
      "text/plain": [
       "2"
      ]
     },
     "execution_count": 32,
     "metadata": {},
     "output_type": "execute_result"
    }
   ],
   "source": [
    "np.random.randint(2,5)"
   ]
  },
  {
   "cell_type": "code",
   "execution_count": 33,
   "id": "b70871cf",
   "metadata": {},
   "outputs": [
    {
     "data": {
      "text/plain": [
       "array([0, 1, 1, 1, 1])"
      ]
     },
     "execution_count": 33,
     "metadata": {},
     "output_type": "execute_result"
    }
   ],
   "source": [
    "np.random.randint(2,size=5)"
   ]
  },
  {
   "cell_type": "code",
   "execution_count": 34,
   "id": "743e7620",
   "metadata": {},
   "outputs": [
    {
     "data": {
      "text/plain": [
       "array([0.57795086, 0.70922846, 0.42850984, 0.75286393, 0.94951797])"
      ]
     },
     "execution_count": 34,
     "metadata": {},
     "output_type": "execute_result"
    }
   ],
   "source": [
    "np.random.random(5)"
   ]
  },
  {
   "cell_type": "code",
   "execution_count": null,
   "id": "ac9e975c",
   "metadata": {},
   "outputs": [],
   "source": []
  }
 ],
 "metadata": {
  "kernelspec": {
   "display_name": "base",
   "language": "python",
   "name": "python3"
  },
  "language_info": {
   "codemirror_mode": {
    "name": "ipython",
    "version": 3
   },
   "file_extension": ".py",
   "mimetype": "text/x-python",
   "name": "python",
   "nbconvert_exporter": "python",
   "pygments_lexer": "ipython3",
   "version": "3.12.7"
  }
 },
 "nbformat": 4,
 "nbformat_minor": 5
}
