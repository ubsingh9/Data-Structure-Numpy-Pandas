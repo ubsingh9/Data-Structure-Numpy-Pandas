{
 "cells": [
  {
   "cell_type": "markdown",
   "id": "82486f60",
   "metadata": {},
   "source": [
    "### List"
   ]
  },
  {
   "cell_type": "code",
   "execution_count": 1,
   "id": "9ca4a4e7",
   "metadata": {},
   "outputs": [
    {
     "name": "stdout",
     "output_type": "stream",
     "text": [
      "['banana', 'cherry', 'apple']\n"
     ]
    }
   ],
   "source": [
    "my_list = [\"banana\", \"cherry\", \"apple\"]\n",
    "print(my_list)"
   ]
  },
  {
   "cell_type": "code",
   "execution_count": 2,
   "id": "dfb50d60",
   "metadata": {},
   "outputs": [
    {
     "name": "stdout",
     "output_type": "stream",
     "text": [
      "[]\n"
     ]
    }
   ],
   "source": [
    "my_list2=list()\n",
    "print(my_list2)"
   ]
  },
  {
   "cell_type": "code",
   "execution_count": 3,
   "id": "a95eb997",
   "metadata": {},
   "outputs": [],
   "source": [
    "my_list2=[5,\"apple\", \"apple\"]"
   ]
  },
  {
   "cell_type": "code",
   "execution_count": 6,
   "id": "7f0cff28",
   "metadata": {},
   "outputs": [
    {
     "name": "stdout",
     "output_type": "stream",
     "text": [
      "banana\n"
     ]
    }
   ],
   "source": [
    "item=my_list[0]\n",
    "print(item)"
   ]
  },
  {
   "cell_type": "code",
   "execution_count": 7,
   "id": "c7b7ebc4",
   "metadata": {},
   "outputs": [
    {
     "data": {
      "text/plain": [
       "'apple'"
      ]
     },
     "execution_count": 7,
     "metadata": {},
     "output_type": "execute_result"
    }
   ],
   "source": [
    "my_list[-1]"
   ]
  },
  {
   "cell_type": "code",
   "execution_count": 8,
   "id": "5ee6cca5",
   "metadata": {},
   "outputs": [
    {
     "name": "stdout",
     "output_type": "stream",
     "text": [
      "banana\n",
      "cherry\n",
      "apple\n"
     ]
    }
   ],
   "source": [
    "for i in my_list:\n",
    "    print(i)"
   ]
  },
  {
   "cell_type": "code",
   "execution_count": 9,
   "id": "cba9e824",
   "metadata": {},
   "outputs": [
    {
     "name": "stdout",
     "output_type": "stream",
     "text": [
      "yes\n"
     ]
    }
   ],
   "source": [
    "if 'banana' in my_list:\n",
    "    print(\"yes\")\n",
    "else:\n",
    "    print('no')"
   ]
  },
  {
   "cell_type": "code",
   "execution_count": 10,
   "id": "4c7a89ea",
   "metadata": {},
   "outputs": [
    {
     "data": {
      "text/plain": [
       "3"
      ]
     },
     "execution_count": 10,
     "metadata": {},
     "output_type": "execute_result"
    }
   ],
   "source": [
    "len(my_list)"
   ]
  },
  {
   "cell_type": "code",
   "execution_count": 11,
   "id": "8eceffd7",
   "metadata": {},
   "outputs": [],
   "source": [
    "my_list.append(\"lemmon\")"
   ]
  },
  {
   "cell_type": "code",
   "execution_count": 12,
   "id": "91ca59b7",
   "metadata": {},
   "outputs": [
    {
     "name": "stdout",
     "output_type": "stream",
     "text": [
      "['banana', 'cherry', 'apple', 'lemmon']\n"
     ]
    }
   ],
   "source": [
    "print(my_list)"
   ]
  },
  {
   "cell_type": "code",
   "execution_count": 13,
   "id": "e0eb798d",
   "metadata": {},
   "outputs": [
    {
     "name": "stdout",
     "output_type": "stream",
     "text": [
      "['banana', 'blueberry', 'cherry', 'apple', 'lemmon']\n"
     ]
    }
   ],
   "source": [
    "my_list.insert(1, \"blueberry\")\n",
    "print(my_list)"
   ]
  },
  {
   "cell_type": "code",
   "execution_count": 14,
   "id": "55f794b5",
   "metadata": {},
   "outputs": [
    {
     "name": "stdout",
     "output_type": "stream",
     "text": [
      "['banana', 'blueberry', 'cherry', 'apple']\n"
     ]
    }
   ],
   "source": [
    "my_list.pop()\n",
    "print(my_list)"
   ]
  },
  {
   "cell_type": "code",
   "execution_count": 15,
   "id": "2850bb82",
   "metadata": {},
   "outputs": [
    {
     "name": "stdout",
     "output_type": "stream",
     "text": [
      "['banana', 'blueberry', 'apple']\n"
     ]
    }
   ],
   "source": [
    "my_list.remove(\"cherry\")\n",
    "print(my_list)"
   ]
  },
  {
   "cell_type": "code",
   "execution_count": 16,
   "id": "676c21e4",
   "metadata": {},
   "outputs": [
    {
     "name": "stdout",
     "output_type": "stream",
     "text": [
      "[]\n"
     ]
    }
   ],
   "source": [
    "my_list.clear()\n",
    "print(my_list)"
   ]
  },
  {
   "cell_type": "code",
   "execution_count": 27,
   "id": "9f2b47ce",
   "metadata": {},
   "outputs": [
    {
     "name": "stdout",
     "output_type": "stream",
     "text": [
      "[4, 3, 1, -1, -5, 10]\n"
     ]
    }
   ],
   "source": [
    "my_list=[4,3,1,-1,-5,10]\n",
    "print(my_list)"
   ]
  },
  {
   "cell_type": "code",
   "execution_count": 30,
   "id": "46dc1edc",
   "metadata": {},
   "outputs": [
    {
     "name": "stdout",
     "output_type": "stream",
     "text": [
      "None\n"
     ]
    }
   ],
   "source": [
    "print(my_list.sort())"
   ]
  },
  {
   "cell_type": "code",
   "execution_count": 31,
   "id": "0bf3787e",
   "metadata": {},
   "outputs": [],
   "source": [
    "new_list=sorted(my_list)"
   ]
  },
  {
   "cell_type": "code",
   "execution_count": 32,
   "id": "fbe6ff67",
   "metadata": {},
   "outputs": [
    {
     "name": "stdout",
     "output_type": "stream",
     "text": [
      "[-5, -1, 1, 3, 4, 10]\n"
     ]
    }
   ],
   "source": [
    "print(new_list)"
   ]
  },
  {
   "cell_type": "code",
   "execution_count": 38,
   "id": "9b4f3f1a",
   "metadata": {},
   "outputs": [
    {
     "name": "stdout",
     "output_type": "stream",
     "text": [
      "[0, 1, 2, 3, 4, 5, 6, 7, 8, 1, 2, 3, 4, 5, 6]\n"
     ]
    }
   ],
   "source": [
    "my_list=[0,1,2,3,4,5,6,7,8]\n",
    "my_list2=[1,2,3,4,5,6]\n",
    "new_list=my_list+my_list2\n",
    "print(new_list)"
   ]
  },
  {
   "cell_type": "code",
   "execution_count": 35,
   "id": "cdeaa6fc",
   "metadata": {},
   "outputs": [
    {
     "data": {
      "text/plain": [
       "[0, 0, 0, 0]"
      ]
     },
     "execution_count": 35,
     "metadata": {},
     "output_type": "execute_result"
    }
   ],
   "source": [
    "my_list[1:5]"
   ]
  },
  {
   "cell_type": "code",
   "execution_count": 36,
   "id": "8630049a",
   "metadata": {},
   "outputs": [
    {
     "data": {
      "text/plain": [
       "[0, 0, 0, 0, 0]"
      ]
     },
     "execution_count": 36,
     "metadata": {},
     "output_type": "execute_result"
    }
   ],
   "source": [
    "my_list[:5]"
   ]
  },
  {
   "cell_type": "code",
   "execution_count": 39,
   "id": "be79d279",
   "metadata": {},
   "outputs": [
    {
     "data": {
      "text/plain": [
       "[1, 2, 3, 4, 5, 6, 7, 8]"
      ]
     },
     "execution_count": 39,
     "metadata": {},
     "output_type": "execute_result"
    }
   ],
   "source": [
    "my_list[1:]"
   ]
  },
  {
   "cell_type": "code",
   "execution_count": 40,
   "id": "fba887f4",
   "metadata": {},
   "outputs": [
    {
     "data": {
      "text/plain": [
       "[8, 7, 6, 5, 4, 3, 2, 1, 0]"
      ]
     },
     "execution_count": 40,
     "metadata": {},
     "output_type": "execute_result"
    }
   ],
   "source": [
    "my_list[::-1]"
   ]
  },
  {
   "cell_type": "code",
   "execution_count": 42,
   "id": "586fd567",
   "metadata": {},
   "outputs": [
    {
     "data": {
      "text/plain": [
       "[8, 6, 4, 2, 0]"
      ]
     },
     "execution_count": 42,
     "metadata": {},
     "output_type": "execute_result"
    }
   ],
   "source": [
    "my_list[::-2]"
   ]
  },
  {
   "cell_type": "code",
   "execution_count": 43,
   "id": "65c57e0c",
   "metadata": {},
   "outputs": [],
   "source": [
    "list_org=[\"banana\",\"cherry\", \"apple\"]\n",
    "list_cpy=list_org"
   ]
  },
  {
   "cell_type": "code",
   "execution_count": 44,
   "id": "2a376ef5",
   "metadata": {},
   "outputs": [
    {
     "name": "stdout",
     "output_type": "stream",
     "text": [
      "['banana', 'cherry', 'apple', 'lemon']\n",
      "['banana', 'cherry', 'apple', 'lemon']\n"
     ]
    }
   ],
   "source": [
    "list_cpy.append(\"lemon\")\n",
    "print(list_cpy)\n",
    "print(list_org)"
   ]
  },
  {
   "cell_type": "code",
   "execution_count": 45,
   "id": "b3d07e0d",
   "metadata": {},
   "outputs": [
    {
     "name": "stdout",
     "output_type": "stream",
     "text": [
      "['banana', 'cherry', 'apple', 'lemon']\n",
      "['banana', 'cherry', 'apple', 'lemon', 'orange']\n"
     ]
    }
   ],
   "source": [
    "list_cpy=list_org.copy()\n",
    "list_cpy.append(\"orange\")\n",
    "print(list_org)\n",
    "print(list_cpy)"
   ]
  },
  {
   "cell_type": "code",
   "execution_count": 46,
   "id": "3c87e113",
   "metadata": {},
   "outputs": [
    {
     "name": "stdout",
     "output_type": "stream",
     "text": [
      "['banana', 'cherry', 'apple', 'lemon']\n",
      "['banana', 'cherry', 'apple', 'lemon', 'guava']\n"
     ]
    }
   ],
   "source": [
    "list_cpy=list(list_org)\n",
    "list_cpy.append(\"guava\")\n",
    "print(list_org)\n",
    "print(list_cpy)"
   ]
  },
  {
   "cell_type": "code",
   "execution_count": 47,
   "id": "e105b719",
   "metadata": {},
   "outputs": [
    {
     "name": "stdout",
     "output_type": "stream",
     "text": [
      "['banana', 'cherry', 'apple', 'lemon']\n",
      "['banana', 'cherry', 'apple', 'lemon', 'ice cream']\n"
     ]
    }
   ],
   "source": [
    "list_cpy=list_org[:]\n",
    "list_cpy.append(\"ice cream\")\n",
    "print(list_org)\n",
    "print(list_cpy)"
   ]
  },
  {
   "cell_type": "code",
   "execution_count": 48,
   "id": "2e31fb5d",
   "metadata": {},
   "outputs": [
    {
     "name": "stdout",
     "output_type": "stream",
     "text": [
      "[1, 4, 9, 16, 25, 36]\n"
     ]
    }
   ],
   "source": [
    "list1=[1,2,3,4,5,6]\n",
    "list2=[i*i for i in list1]\n",
    "print(list2)"
   ]
  },
  {
   "cell_type": "markdown",
   "id": "0b6a27f8",
   "metadata": {},
   "source": [
    "### Tuples"
   ]
  },
  {
   "cell_type": "code",
   "execution_count": 63,
   "id": "3d06ecef",
   "metadata": {},
   "outputs": [
    {
     "name": "stdout",
     "output_type": "stream",
     "text": [
      "('max', 28, 'boston')\n"
     ]
    }
   ],
   "source": [
    "mytuple=(\"max\", 28, \"boston\")\n",
    "print(mytuple)"
   ]
  },
  {
   "cell_type": "code",
   "execution_count": 51,
   "id": "15088809",
   "metadata": {},
   "outputs": [
    {
     "name": "stdout",
     "output_type": "stream",
     "text": [
      "{'max'}\n"
     ]
    }
   ],
   "source": [
    "mytuple={\"max\",}\n",
    "print(mytuple)"
   ]
  },
  {
   "cell_type": "code",
   "execution_count": 55,
   "id": "ca38aab3",
   "metadata": {},
   "outputs": [
    {
     "name": "stdout",
     "output_type": "stream",
     "text": [
      "('max', 28, 'Boston')\n"
     ]
    }
   ],
   "source": [
    "mytuples=tuple([\"max\", 28,\"Boston\"])\n",
    "print(mytuples)"
   ]
  },
  {
   "cell_type": "code",
   "execution_count": 57,
   "id": "38886787",
   "metadata": {},
   "outputs": [
    {
     "name": "stdout",
     "output_type": "stream",
     "text": [
      "max\n"
     ]
    }
   ],
   "source": [
    "item=mytuples[0]\n",
    "print(item)"
   ]
  },
  {
   "cell_type": "code",
   "execution_count": 58,
   "id": "32f5ac19",
   "metadata": {},
   "outputs": [
    {
     "name": "stdout",
     "output_type": "stream",
     "text": [
      "max\n",
      "28\n",
      "Boston\n"
     ]
    }
   ],
   "source": [
    "for i in mytuples:\n",
    "    print(i)"
   ]
  },
  {
   "cell_type": "code",
   "execution_count": 59,
   "id": "186e07f2",
   "metadata": {},
   "outputs": [
    {
     "name": "stdout",
     "output_type": "stream",
     "text": [
      "yes\n"
     ]
    }
   ],
   "source": [
    "if \"max\" in mytuples:\n",
    "    print(\"yes\")\n",
    "else:\n",
    "    print(\"no\")"
   ]
  },
  {
   "cell_type": "code",
   "execution_count": 64,
   "id": "aaba7453",
   "metadata": {},
   "outputs": [
    {
     "name": "stdout",
     "output_type": "stream",
     "text": [
      "5\n"
     ]
    }
   ],
   "source": [
    "mytuple=('a','p','p','l','e')\n",
    "print(len(mytuple))"
   ]
  },
  {
   "cell_type": "code",
   "execution_count": 67,
   "id": "6737d80b",
   "metadata": {},
   "outputs": [
    {
     "name": "stdout",
     "output_type": "stream",
     "text": [
      "2\n"
     ]
    }
   ],
   "source": [
    "print(mytuple.count('p')) # count of an element"
   ]
  },
  {
   "cell_type": "code",
   "execution_count": 68,
   "id": "6437414a",
   "metadata": {},
   "outputs": [
    {
     "name": "stdout",
     "output_type": "stream",
     "text": [
      "1\n"
     ]
    }
   ],
   "source": [
    "print(mytuple.index('p')) # Index of an element"
   ]
  },
  {
   "cell_type": "code",
   "execution_count": 70,
   "id": "8f3d3f72",
   "metadata": {},
   "outputs": [
    {
     "name": "stdout",
     "output_type": "stream",
     "text": [
      "['a', 'p', 'p', 'l', 'e']\n"
     ]
    }
   ],
   "source": [
    "my_list=list(mytuple)\n",
    "print(my_list)"
   ]
  },
  {
   "cell_type": "code",
   "execution_count": 71,
   "id": "c4ca67fd",
   "metadata": {},
   "outputs": [
    {
     "name": "stdout",
     "output_type": "stream",
     "text": [
      "('a', 'p', 'p', 'l', 'e')\n"
     ]
    }
   ],
   "source": [
    "mytuple=tuple(my_list)\n",
    "print(mytuple)"
   ]
  },
  {
   "cell_type": "code",
   "execution_count": 72,
   "id": "c03518bb",
   "metadata": {},
   "outputs": [
    {
     "name": "stdout",
     "output_type": "stream",
     "text": [
      "[3, 4, 5]\n"
     ]
    }
   ],
   "source": [
    "a=[1,2,3,4,5,6,7,8,9,10]\n",
    "b=a[2:5]\n",
    "print(b)"
   ]
  },
  {
   "cell_type": "code",
   "execution_count": null,
   "id": "79bf52b8",
   "metadata": {},
   "outputs": [
    {
     "name": "stdout",
     "output_type": "stream",
     "text": [
      "[10, 8, 6, 4, 2]\n"
     ]
    }
   ],
   "source": [
    "b=a[::-2] # reverse\n",
    "print(b)"
   ]
  },
  {
   "cell_type": "code",
   "execution_count": 78,
   "id": "e082e0f2",
   "metadata": {},
   "outputs": [
    {
     "name": "stdout",
     "output_type": "stream",
     "text": [
      "max\n",
      "28\n",
      "boston\n"
     ]
    }
   ],
   "source": [
    "mytuple=(\"max\", 28, \"boston\") ### Unpack\n",
    "name,age, city=mytuple\n",
    "print(name)\n",
    "print(age)\n",
    "print(city)"
   ]
  },
  {
   "cell_type": "code",
   "execution_count": 79,
   "id": "b4331a68",
   "metadata": {},
   "outputs": [
    {
     "name": "stdout",
     "output_type": "stream",
     "text": [
      "0\n",
      "[1, 2, 3]\n",
      "4\n"
     ]
    }
   ],
   "source": [
    "mytuple=(0,1,2,3,4)\n",
    "i1, *i2,i3=mytuple\n",
    "print(i1)\n",
    "print(i2)\n",
    "print(i3)"
   ]
  },
  {
   "cell_type": "markdown",
   "id": "0567950e",
   "metadata": {},
   "source": [
    "### Dictionary"
   ]
  },
  {
   "cell_type": "code",
   "execution_count": 1,
   "id": "ff30d439",
   "metadata": {},
   "outputs": [
    {
     "name": "stdout",
     "output_type": "stream",
     "text": [
      "{'name': 'max', 'age': 28, 'city': 'New York'}\n"
     ]
    }
   ],
   "source": [
    "mydict={\"name\":\"max\", \"age\":28, \"city\":\"New York\"}\n",
    "print(mydict)"
   ]
  },
  {
   "cell_type": "code",
   "execution_count": 3,
   "id": "b773bb4a",
   "metadata": {},
   "outputs": [
    {
     "name": "stdout",
     "output_type": "stream",
     "text": [
      "{'name': 'max', 'age': 28, 'city': 'New York'}\n"
     ]
    }
   ],
   "source": [
    "mydict2=dict(name=\"Marry\", age=28, city=\"Boston\")\n",
    "print(mydict)"
   ]
  },
  {
   "cell_type": "code",
   "execution_count": 4,
   "id": "cf26f215",
   "metadata": {},
   "outputs": [
    {
     "data": {
      "text/plain": [
       "'max'"
      ]
     },
     "execution_count": 4,
     "metadata": {},
     "output_type": "execute_result"
    }
   ],
   "source": [
    "mydict[\"name\"]"
   ]
  },
  {
   "cell_type": "code",
   "execution_count": 5,
   "id": "8ecdc4c4",
   "metadata": {},
   "outputs": [],
   "source": [
    "mydict['email']=\"max@xyz.com\""
   ]
  },
  {
   "cell_type": "code",
   "execution_count": 6,
   "id": "59da6b6d",
   "metadata": {},
   "outputs": [
    {
     "name": "stdout",
     "output_type": "stream",
     "text": [
      "{'name': 'max', 'age': 28, 'city': 'New York', 'email': 'max@xyz.com'}\n"
     ]
    }
   ],
   "source": [
    "print(mydict)"
   ]
  },
  {
   "cell_type": "code",
   "execution_count": 7,
   "id": "2e08f4e8",
   "metadata": {},
   "outputs": [
    {
     "name": "stdout",
     "output_type": "stream",
     "text": [
      "{'name': 'max', 'city': 'New York', 'email': 'max@xyz.com'}\n"
     ]
    }
   ],
   "source": [
    "mydict.pop('age')\n",
    "print(mydict)"
   ]
  },
  {
   "cell_type": "code",
   "execution_count": 8,
   "id": "a89a88b2",
   "metadata": {},
   "outputs": [
    {
     "name": "stdout",
     "output_type": "stream",
     "text": [
      "max\n"
     ]
    }
   ],
   "source": [
    "if \"name\" in mydict:\n",
    "    print (mydict['name'])"
   ]
  },
  {
   "cell_type": "code",
   "execution_count": 9,
   "id": "9e84f076",
   "metadata": {},
   "outputs": [
    {
     "name": "stdout",
     "output_type": "stream",
     "text": [
      "name\n",
      "city\n",
      "email\n"
     ]
    }
   ],
   "source": [
    "for key in mydict:\n",
    "    print(key)"
   ]
  },
  {
   "cell_type": "code",
   "execution_count": 11,
   "id": "d7f73f11",
   "metadata": {},
   "outputs": [
    {
     "name": "stdout",
     "output_type": "stream",
     "text": [
      "name\n",
      "city\n",
      "email\n"
     ]
    }
   ],
   "source": [
    "for key in mydict.keys():\n",
    "    print(key)"
   ]
  },
  {
   "cell_type": "code",
   "execution_count": 12,
   "id": "6adc8247",
   "metadata": {},
   "outputs": [
    {
     "name": "stdout",
     "output_type": "stream",
     "text": [
      "max\n",
      "New York\n",
      "max@xyz.com\n"
     ]
    }
   ],
   "source": [
    "for value in mydict.values():\n",
    "    print(value)"
   ]
  },
  {
   "cell_type": "code",
   "execution_count": 13,
   "id": "51ef292f",
   "metadata": {},
   "outputs": [
    {
     "name": "stdout",
     "output_type": "stream",
     "text": [
      "name max\n",
      "city New York\n",
      "email max@xyz.com\n"
     ]
    }
   ],
   "source": [
    "for key, value in mydict.items():\n",
    "    print(key, value)"
   ]
  },
  {
   "cell_type": "code",
   "execution_count": 14,
   "id": "f81f622b",
   "metadata": {},
   "outputs": [
    {
     "name": "stdout",
     "output_type": "stream",
     "text": [
      "{'name': 'max', 'city': 'New York', 'email': 'max@xyz.com'}\n",
      "{'name': 'max', 'city': 'New York', 'email': 'abc@xyz.com'}\n",
      "{'name': 'max', 'city': 'New York', 'email': 'abc@xyz.com'}\n"
     ]
    }
   ],
   "source": [
    "mydict_cpy=mydict\n",
    "print(mydict_cpy)\n",
    "mydict_cpy['email']=\"abc@xyz.com\"\n",
    "print(mydict_cpy)\n",
    "print(mydict)"
   ]
  },
  {
   "cell_type": "code",
   "execution_count": 15,
   "id": "46f31147",
   "metadata": {},
   "outputs": [
    {
     "name": "stdout",
     "output_type": "stream",
     "text": [
      "{'name': 'max', 'city': 'New York', 'email': 'abc@xyz.com'}\n",
      "{'name': 'max', 'city': 'New York', 'email': 'ijk@xyg.com'}\n",
      "{'name': 'max', 'city': 'New York', 'email': 'abc@xyz.com'}\n"
     ]
    }
   ],
   "source": [
    "mydict_cpy=mydict.copy()\n",
    "print(mydict_cpy)\n",
    "mydict_cpy['email']=\"ijk@xyg.com\"\n",
    "print(mydict_cpy)\n",
    "print(mydict)"
   ]
  },
  {
   "cell_type": "code",
   "execution_count": 2,
   "id": "125bf408",
   "metadata": {},
   "outputs": [
    {
     "name": "stdout",
     "output_type": "stream",
     "text": [
      "{'name': 'Marry', 'age': 27, 'email': 'max@xyz.com', 'city': 'Booston'}\n"
     ]
    }
   ],
   "source": [
    "mydict={\"name\":\"Max\", \"age\":28, \"email\":\"max@xyz.com\"}\n",
    "mydict2=dict(name=\"Marry\", age=27, city=\"Booston\")\n",
    "mydict.update(mydict2)\n",
    "print(mydict)"
   ]
  },
  {
   "cell_type": "markdown",
   "id": "b26052eb",
   "metadata": {},
   "source": [
    "### Set"
   ]
  },
  {
   "cell_type": "code",
   "execution_count": 4,
   "id": "1adb8341",
   "metadata": {},
   "outputs": [
    {
     "name": "stdout",
     "output_type": "stream",
     "text": [
      "{1, 2, 3, 4, 5}\n"
     ]
    }
   ],
   "source": [
    "myset={1,2,3,4,5,2,1}\n",
    "print(myset)"
   ]
  },
  {
   "cell_type": "code",
   "execution_count": 5,
   "id": "a4c27f64",
   "metadata": {},
   "outputs": [
    {
     "name": "stdout",
     "output_type": "stream",
     "text": [
      "{1, 2, 3, 4, 5, 6}\n"
     ]
    }
   ],
   "source": [
    "myset=set([1,2,3,4,5,6])\n",
    "print(myset)"
   ]
  },
  {
   "cell_type": "code",
   "execution_count": 6,
   "id": "5bc657f9",
   "metadata": {},
   "outputs": [
    {
     "name": "stdout",
     "output_type": "stream",
     "text": [
      "{'Hello'}\n"
     ]
    }
   ],
   "source": [
    "myset=set([\"Hello\"])\n",
    "print(myset)"
   ]
  },
  {
   "cell_type": "code",
   "execution_count": 7,
   "id": "280c4775",
   "metadata": {},
   "outputs": [
    {
     "name": "stdout",
     "output_type": "stream",
     "text": [
      "{2, 3}\n"
     ]
    }
   ],
   "source": [
    "myset=set()\n",
    "myset.add(1)\n",
    "myset.add(2)\n",
    "myset.add(3)\n",
    "\n",
    "myset.discard(1)\n",
    "print(myset)"
   ]
  },
  {
   "cell_type": "code",
   "execution_count": 8,
   "id": "1361ea42",
   "metadata": {},
   "outputs": [],
   "source": [
    "# Union and Intersection \n",
    "odds={1,3,5,7,9}\n",
    "even={0,2,4,6,8}\n",
    "primes={2,3,5,7}"
   ]
  },
  {
   "cell_type": "code",
   "execution_count": 9,
   "id": "ab0d4869",
   "metadata": {},
   "outputs": [
    {
     "name": "stdout",
     "output_type": "stream",
     "text": [
      "{0, 1, 2, 3, 4, 5, 6, 7, 8, 9}\n"
     ]
    }
   ],
   "source": [
    "u=odds.union(even)\n",
    "print(u)"
   ]
  },
  {
   "cell_type": "code",
   "execution_count": 10,
   "id": "337338e8",
   "metadata": {},
   "outputs": [
    {
     "name": "stdout",
     "output_type": "stream",
     "text": [
      "set()\n"
     ]
    }
   ],
   "source": [
    "i=odds.intersection(even)\n",
    "print(i)"
   ]
  },
  {
   "cell_type": "code",
   "execution_count": 11,
   "id": "cb74e4f2",
   "metadata": {},
   "outputs": [
    {
     "name": "stdout",
     "output_type": "stream",
     "text": [
      "{4, 5, 6, 7, 8, 9}\n"
     ]
    }
   ],
   "source": [
    "set1={1,2,3,4,5,6,7,8,9}\n",
    "set2={1,2,3,10,11,12}\n",
    "\n",
    "diff=set1.difference(set2)\n",
    "print(diff)"
   ]
  },
  {
   "cell_type": "code",
   "execution_count": 12,
   "id": "aa920cf2",
   "metadata": {},
   "outputs": [
    {
     "name": "stdout",
     "output_type": "stream",
     "text": [
      "{4, 5, 6, 7, 8, 9, 10, 11, 12}\n"
     ]
    }
   ],
   "source": [
    "diff=set1.symmetric_difference(set2)\n",
    "print(diff)"
   ]
  },
  {
   "cell_type": "markdown",
   "id": "32d4ecbe",
   "metadata": {},
   "source": [
    "### String"
   ]
  },
  {
   "cell_type": "code",
   "execution_count": 14,
   "id": "bd968cb6",
   "metadata": {},
   "outputs": [
    {
     "name": "stdout",
     "output_type": "stream",
     "text": [
      "Hello world\n"
     ]
    }
   ],
   "source": [
    "mystring=\"Hello world\"\n",
    "print(mystring)"
   ]
  },
  {
   "cell_type": "code",
   "execution_count": 15,
   "id": "971cf944",
   "metadata": {},
   "outputs": [
    {
     "name": "stdout",
     "output_type": "stream",
     "text": [
      "H\n"
     ]
    }
   ],
   "source": [
    "print(mystring[0])"
   ]
  },
  {
   "cell_type": "code",
   "execution_count": 18,
   "id": "8c5a6f4d",
   "metadata": {},
   "outputs": [
    {
     "data": {
      "text/plain": [
       "'Hello'"
      ]
     },
     "execution_count": 18,
     "metadata": {},
     "output_type": "execute_result"
    }
   ],
   "source": [
    "mystring[:5]"
   ]
  },
  {
   "cell_type": "code",
   "execution_count": 19,
   "id": "160d77c3",
   "metadata": {},
   "outputs": [
    {
     "name": "stdout",
     "output_type": "stream",
     "text": [
      "    Hello World    \n"
     ]
    }
   ],
   "source": [
    "mystring = '    Hello World    '\n",
    "print(mystring)"
   ]
  },
  {
   "cell_type": "code",
   "execution_count": 20,
   "id": "45392dc5",
   "metadata": {},
   "outputs": [
    {
     "name": "stdout",
     "output_type": "stream",
     "text": [
      "Hello World\n"
     ]
    }
   ],
   "source": [
    "mystring=mystring.strip()\n",
    "print(mystring)"
   ]
  },
  {
   "cell_type": "code",
   "execution_count": 21,
   "id": "dc408382",
   "metadata": {},
   "outputs": [
    {
     "name": "stdout",
     "output_type": "stream",
     "text": [
      "HELLO WORLD\n"
     ]
    }
   ],
   "source": [
    "print(mystring.upper())"
   ]
  },
  {
   "cell_type": "code",
   "execution_count": 22,
   "id": "39849cfa",
   "metadata": {},
   "outputs": [
    {
     "name": "stdout",
     "output_type": "stream",
     "text": [
      "hello world\n"
     ]
    }
   ],
   "source": [
    "print(mystring.lower())"
   ]
  },
  {
   "cell_type": "code",
   "execution_count": 23,
   "id": "fbf873e7",
   "metadata": {},
   "outputs": [
    {
     "name": "stdout",
     "output_type": "stream",
     "text": [
      "False\n"
     ]
    }
   ],
   "source": [
    "print(mystring.startswith('World'))"
   ]
  },
  {
   "cell_type": "code",
   "execution_count": 24,
   "id": "559af4e4",
   "metadata": {},
   "outputs": [
    {
     "name": "stdout",
     "output_type": "stream",
     "text": [
      "True\n"
     ]
    }
   ],
   "source": [
    "print(mystring.endswith('World'))"
   ]
  },
  {
   "cell_type": "code",
   "execution_count": 25,
   "id": "362b9def",
   "metadata": {},
   "outputs": [
    {
     "name": "stdout",
     "output_type": "stream",
     "text": [
      "['How', 'are', 'you']\n"
     ]
    }
   ],
   "source": [
    "mystring= 'How are you'\n",
    "mylist= mystring.split()\n",
    "print(mylist)"
   ]
  },
  {
   "cell_type": "code",
   "execution_count": 27,
   "id": "5df1c9c8",
   "metadata": {},
   "outputs": [
    {
     "name": "stdout",
     "output_type": "stream",
     "text": [
      "the variable is tom\n"
     ]
    }
   ],
   "source": [
    "var='tom'\n",
    "mystring = \"the variable is %s\" % var\n",
    "print(mystring)"
   ]
  },
  {
   "cell_type": "code",
   "execution_count": 29,
   "id": "eeee8b71",
   "metadata": {},
   "outputs": [
    {
     "name": "stdout",
     "output_type": "stream",
     "text": [
      "the variable is 3.123450\n"
     ]
    }
   ],
   "source": [
    "var=3.12345\n",
    "mystring = \"the variable is %f\" % var\n",
    "print(mystring)"
   ]
  },
  {
   "cell_type": "code",
   "execution_count": 32,
   "id": "f66783e8",
   "metadata": {},
   "outputs": [
    {
     "name": "stdout",
     "output_type": "stream",
     "text": [
      "the variable is 3.12 and 6\n"
     ]
    }
   ],
   "source": [
    "var=3.12345\n",
    "var2= 6\n",
    "mystring = \"the variable is {:.2f} and {}\".format(var, var2)\n",
    "print(mystring)"
   ]
  },
  {
   "cell_type": "code",
   "execution_count": 33,
   "id": "e877d72d",
   "metadata": {},
   "outputs": [
    {
     "name": "stdout",
     "output_type": "stream",
     "text": [
      "the variable is 3.12345 and 6\n"
     ]
    }
   ],
   "source": [
    "var=3.12345\n",
    "var2= 6\n",
    "mystring = f\"the variable is {var} and {var2}\"\n",
    "print(mystring)"
   ]
  },
  {
   "cell_type": "markdown",
   "id": "8d4f26b3",
   "metadata": {},
   "source": [
    "### Collection"
   ]
  },
  {
   "cell_type": "code",
   "execution_count": 40,
   "id": "245fa8f1",
   "metadata": {},
   "outputs": [
    {
     "name": "stdout",
     "output_type": "stream",
     "text": [
      "Counter({'a': 5, 'b': 4, 'c': 4})\n",
      "dict_items([('a', 5), ('b', 4), ('c', 4)])\n",
      "a\n"
     ]
    }
   ],
   "source": [
    "from collections import Counter\n",
    "a=\"aaaaabbbbcccc\"\n",
    "mycounter=Counter(a)\n",
    "print(mycounter)\n",
    "print(mycounter.items())\n",
    "print(mycounter.most_common(1)[0][0])"
   ]
  },
  {
   "cell_type": "code",
   "execution_count": 42,
   "id": "8bf3a23f",
   "metadata": {},
   "outputs": [
    {
     "name": "stdout",
     "output_type": "stream",
     "text": [
      "['a', 'a', 'a', 'a', 'a', 'b', 'b', 'b', 'b', 'c', 'c', 'c', 'c']\n"
     ]
    }
   ],
   "source": [
    "print(list(mycounter.elements()))"
   ]
  },
  {
   "cell_type": "code",
   "execution_count": 44,
   "id": "4ed5a188",
   "metadata": {},
   "outputs": [
    {
     "name": "stdout",
     "output_type": "stream",
     "text": [
      "Point(x=1, y=-4)\n",
      "1\n"
     ]
    }
   ],
   "source": [
    "from collections import namedtuple\n",
    "point=namedtuple(\"Point\",\"x,y\")\n",
    "pt=point(1,-4)\n",
    "print(pt)\n",
    "print(pt.x)"
   ]
  },
  {
   "cell_type": "code",
   "execution_count": 52,
   "id": "bda3e48c",
   "metadata": {},
   "outputs": [
    {
     "name": "stdout",
     "output_type": "stream",
     "text": [
      "((1, 'a'), (2, 'b'), (3, 'c'), (4, 'd'))\n"
     ]
    }
   ],
   "source": [
    "from collections import OrderedDict\n",
    "a=[1,2,3,4]\n",
    "b =['a','b','c','d']\n",
    "c= zip(a,b)\n",
    "print(tuple(c))"
   ]
  },
  {
   "cell_type": "markdown",
   "id": "001ba126",
   "metadata": {},
   "source": [
    "### Iterrtools"
   ]
  },
  {
   "cell_type": "code",
   "execution_count": 54,
   "id": "2cf166f9",
   "metadata": {},
   "outputs": [
    {
     "name": "stdout",
     "output_type": "stream",
     "text": [
      "[(1, 3), (1, 4), (2, 3), (2, 4)]\n"
     ]
    }
   ],
   "source": [
    "from itertools import product\n",
    "a= [1,2]\n",
    "b=[3,4]\n",
    "prod=product(a,b)\n",
    "print(list(prod))"
   ]
  },
  {
   "cell_type": "code",
   "execution_count": 55,
   "id": "54de6303",
   "metadata": {},
   "outputs": [
    {
     "name": "stdout",
     "output_type": "stream",
     "text": [
      "[(1, 2, 3), (1, 3, 2), (2, 1, 3), (2, 3, 1), (3, 1, 2), (3, 2, 1)]\n"
     ]
    }
   ],
   "source": [
    "from itertools import permutations\n",
    "a=[1,2,3]\n",
    "perm=permutations(a)\n",
    "print(list(perm))"
   ]
  },
  {
   "cell_type": "code",
   "execution_count": 57,
   "id": "f28bfe74",
   "metadata": {},
   "outputs": [
    {
     "name": "stdout",
     "output_type": "stream",
     "text": [
      "True [1, 2]\n",
      "False [3, 4]\n"
     ]
    }
   ],
   "source": [
    "from itertools import groupby\n",
    "\n",
    "def smaller_tha2(x):\n",
    "    return x<3\n",
    "a=[1,2,3,4]\n",
    "groupobj=groupby(a,key=smaller_tha2)\n",
    "for key,value in groupobj:\n",
    "    print(key,list(value))"
   ]
  },
  {
   "cell_type": "markdown",
   "id": "b2bc2287",
   "metadata": {},
   "source": [
    "### Lambda function"
   ]
  },
  {
   "cell_type": "code",
   "execution_count": 60,
   "id": "2edf4d2d",
   "metadata": {},
   "outputs": [
    {
     "name": "stdout",
     "output_type": "stream",
     "text": [
      "15\n"
     ]
    }
   ],
   "source": [
    "add10= lambda x:x+10\n",
    "print(add10(5))"
   ]
  },
  {
   "cell_type": "code",
   "execution_count": 61,
   "id": "883ff5d5",
   "metadata": {},
   "outputs": [
    {
     "name": "stdout",
     "output_type": "stream",
     "text": [
      "14\n"
     ]
    }
   ],
   "source": [
    "mult= lambda x,y:x*y\n",
    "print(mult(2,7))"
   ]
  },
  {
   "cell_type": "markdown",
   "id": "d9770fb7",
   "metadata": {},
   "source": [
    "### Map func"
   ]
  },
  {
   "cell_type": "code",
   "execution_count": 62,
   "id": "0309c18c",
   "metadata": {},
   "outputs": [
    {
     "name": "stdout",
     "output_type": "stream",
     "text": [
      "[2, 4, 6, 8, 10]\n"
     ]
    }
   ],
   "source": [
    "a=[1,2,3,4,5]\n",
    "b=map(lambda x:x*2, a)\n",
    "print(list(b))"
   ]
  },
  {
   "cell_type": "code",
   "execution_count": 64,
   "id": "88d96e1d",
   "metadata": {},
   "outputs": [
    {
     "name": "stdout",
     "output_type": "stream",
     "text": [
      "[2, 4]\n"
     ]
    }
   ],
   "source": [
    "b=filter(lambda x:x%2==0,a)\n",
    "print(list(b))"
   ]
  },
  {
   "cell_type": "code",
   "execution_count": 67,
   "id": "89c12e4c",
   "metadata": {},
   "outputs": [
    {
     "ename": "Exception",
     "evalue": "x should be positive",
     "output_type": "error",
     "traceback": [
      "\u001b[1;31m---------------------------------------------------------------------------\u001b[0m",
      "\u001b[1;31mException\u001b[0m                                 Traceback (most recent call last)",
      "Cell \u001b[1;32mIn[67], line 3\u001b[0m\n\u001b[0;32m      1\u001b[0m x\u001b[38;5;241m=\u001b[39m\u001b[38;5;241m-\u001b[39m\u001b[38;5;241m5\u001b[39m\n\u001b[0;32m      2\u001b[0m \u001b[38;5;28;01mif\u001b[39;00m x\u001b[38;5;241m<\u001b[39m\u001b[38;5;241m0\u001b[39m:\n\u001b[1;32m----> 3\u001b[0m     \u001b[38;5;28;01mraise\u001b[39;00m \u001b[38;5;167;01mException\u001b[39;00m (\u001b[38;5;124m'\u001b[39m\u001b[38;5;124mx should be positive\u001b[39m\u001b[38;5;124m'\u001b[39m)\n",
      "\u001b[1;31mException\u001b[0m: x should be positive"
     ]
    }
   ],
   "source": [
    "x=-5\n",
    "if x<0:\n",
    "    raise Exception ('x should be positive')"
   ]
  },
  {
   "cell_type": "code",
   "execution_count": 71,
   "id": "eda73b0f",
   "metadata": {},
   "outputs": [
    {
     "ename": "AssertionError",
     "evalue": "x is not positive",
     "output_type": "error",
     "traceback": [
      "\u001b[1;31m---------------------------------------------------------------------------\u001b[0m",
      "\u001b[1;31mAssertionError\u001b[0m                            Traceback (most recent call last)",
      "Cell \u001b[1;32mIn[71], line 2\u001b[0m\n\u001b[0;32m      1\u001b[0m x\u001b[38;5;241m=\u001b[39m\u001b[38;5;241m5\u001b[39m\n\u001b[1;32m----> 2\u001b[0m \u001b[38;5;28;01massert\u001b[39;00m (x\u001b[38;5;241m==\u001b[39m\u001b[38;5;241m0\u001b[39m), \u001b[38;5;124m'\u001b[39m\u001b[38;5;124mx is not positive\u001b[39m\u001b[38;5;124m'\u001b[39m\n",
      "\u001b[1;31mAssertionError\u001b[0m: x is not positive"
     ]
    }
   ],
   "source": [
    "x=5\n",
    "assert (x==0), 'x is not positive'"
   ]
  },
  {
   "cell_type": "code",
   "execution_count": null,
   "id": "e359af4b",
   "metadata": {},
   "outputs": [
    {
     "name": "stdout",
     "output_type": "stream",
     "text": [
      "Zero error happen\\ division by zero\n"
     ]
    },
    {
     "name": "stderr",
     "output_type": "stream",
     "text": [
      "<>:4: SyntaxWarning: invalid escape sequence '\\ '\n",
      "<>:4: SyntaxWarning: invalid escape sequence '\\ '\n",
      "C:\\Users\\icfai\\AppData\\Local\\Temp\\ipykernel_32304\\741817026.py:4: SyntaxWarning: invalid escape sequence '\\ '\n",
      "  print(f\"Zero error happen\\ {e}\")\n"
     ]
    }
   ],
   "source": [
    "try:\n",
    "    a=5/0\n",
    "except Exception as e:\n",
    "    print(f\"Zero error happen {e}\")"
   ]
  },
  {
   "cell_type": "code",
   "execution_count": 77,
   "id": "dd82cd49",
   "metadata": {},
   "outputs": [
    {
     "name": "stdout",
     "output_type": "stream",
     "text": [
      "division by zero\n",
      "cleaning up...\n"
     ]
    }
   ],
   "source": [
    "try:\n",
    "    a=5/0\n",
    "    b=a+'10'\n",
    "except ZeroDivisionError as e:\n",
    "    print(e)\n",
    "except TypeError as e:\n",
    "    print(e)\n",
    "else:\n",
    "    print(\" everuthing is fine\")\n",
    "finally:\n",
    "    print(\"cleaning up...\")"
   ]
  },
  {
   "cell_type": "code",
   "execution_count": 79,
   "id": "267d7dc6",
   "metadata": {},
   "outputs": [
    {
     "name": "stdout",
     "output_type": "stream",
     "text": [
      "value is too high\n"
     ]
    }
   ],
   "source": [
    "class ValueTooHighError(Exception):\n",
    "    pass\n",
    "\n",
    "def test_value(x):\n",
    "    if x>100:\n",
    "        raise ValueTooHighError('value is too high')\n",
    "\n",
    "try:    \n",
    "    test_value(200)\n",
    "except ValueTooHighError as e:\n",
    "    print(e)"
   ]
  },
  {
   "cell_type": "markdown",
   "id": "f39dbd2a",
   "metadata": {},
   "source": [
    "### Random Number"
   ]
  },
  {
   "cell_type": "code",
   "execution_count": 80,
   "id": "a9e8f1c7",
   "metadata": {},
   "outputs": [
    {
     "name": "stdout",
     "output_type": "stream",
     "text": [
      "0.4607109459244716\n"
     ]
    }
   ],
   "source": [
    "import random\n",
    "\n",
    "a=random.random()\n",
    "print(a)"
   ]
  },
  {
   "cell_type": "code",
   "execution_count": 81,
   "id": "8a3d462b",
   "metadata": {},
   "outputs": [
    {
     "name": "stdout",
     "output_type": "stream",
     "text": [
      "9.565542440242076\n"
     ]
    }
   ],
   "source": [
    "a=random.uniform(1,10)\n",
    "print(a)"
   ]
  },
  {
   "cell_type": "code",
   "execution_count": 82,
   "id": "91a2d61a",
   "metadata": {},
   "outputs": [
    {
     "name": "stdout",
     "output_type": "stream",
     "text": [
      "10\n"
     ]
    }
   ],
   "source": [
    "a=random.randint(1,10)\n",
    "print(a)"
   ]
  },
  {
   "cell_type": "code",
   "execution_count": 85,
   "id": "372e297c",
   "metadata": {},
   "outputs": [
    {
     "name": "stdout",
     "output_type": "stream",
     "text": [
      "3\n"
     ]
    }
   ],
   "source": [
    "a=random.randrange(1,10)\n",
    "print(a)"
   ]
  },
  {
   "cell_type": "code",
   "execution_count": 87,
   "id": "aeefa594",
   "metadata": {},
   "outputs": [
    {
     "name": "stdout",
     "output_type": "stream",
     "text": [
      "0.7335383911769576\n"
     ]
    }
   ],
   "source": [
    "a=random.normalvariate(0,1)\n",
    "print(a)"
   ]
  },
  {
   "cell_type": "code",
   "execution_count": 91,
   "id": "8a0632e3",
   "metadata": {},
   "outputs": [
    {
     "name": "stdout",
     "output_type": "stream",
     "text": [
      "['G', 'C', 'E']\n"
     ]
    }
   ],
   "source": [
    "mylist=list('ABCDEFG')\n",
    "a=random.sample(mylist,3)\n",
    "print(a)"
   ]
  },
  {
   "cell_type": "markdown",
   "id": "91a75a6a",
   "metadata": {},
   "source": [
    "### Decorator"
   ]
  },
  {
   "cell_type": "code",
   "execution_count": 92,
   "id": "eb510ae4",
   "metadata": {},
   "outputs": [
    {
     "ename": "NameError",
     "evalue": "name 'mydecorator' is not defined",
     "output_type": "error",
     "traceback": [
      "\u001b[1;31m---------------------------------------------------------------------------\u001b[0m",
      "\u001b[1;31mNameError\u001b[0m                                 Traceback (most recent call last)",
      "Cell \u001b[1;32mIn[92], line 1\u001b[0m\n\u001b[1;32m----> 1\u001b[0m \u001b[38;5;129m@mydecorator\u001b[39m\n\u001b[0;32m      2\u001b[0m \u001b[38;5;28;01mdef\u001b[39;00m \u001b[38;5;21mdosomething\u001b[39m():\n\u001b[0;32m      3\u001b[0m     \u001b[38;5;28;01mpass\u001b[39;00m\n",
      "\u001b[1;31mNameError\u001b[0m: name 'mydecorator' is not defined"
     ]
    }
   ],
   "source": [
    "@mydecorator\n",
    "def dosomething():\n",
    "    pass"
   ]
  },
  {
   "cell_type": "code",
   "execution_count": 95,
   "id": "395da34c",
   "metadata": {},
   "outputs": [
    {
     "name": "stdout",
     "output_type": "stream",
     "text": [
      "Start\n",
      "Alex\n",
      "End\n"
     ]
    }
   ],
   "source": [
    "def start_end_decorator(func):\n",
    "\n",
    "    def wrapper():\n",
    "        print('Start')\n",
    "        func()\n",
    "        print('End')\n",
    "    return wrapper\n",
    "\n",
    "@start_end_decorator\n",
    "def print_name():\n",
    "    print(\"Alex\")\n",
    "\n",
    "print_name()"
   ]
  },
  {
   "cell_type": "code",
   "execution_count": null,
   "id": "3899546d",
   "metadata": {},
   "outputs": [],
   "source": [
    "def start_end_decorator(func):\n",
    "\n",
    "    def wrapper():\n",
    "        print('Start')\n",
    "        func()\n",
    "        print('End')\n",
    "    return wrapper\n",
    "\n",
    "@start_end_decorator\n",
    "def add5():\n",
    "    return x+5\n"
   ]
  },
  {
   "cell_type": "code",
   "execution_count": null,
   "id": "7847ac67",
   "metadata": {},
   "outputs": [],
   "source": [
    "import functools\n",
    "\n",
    "def repaet(num_times):\n",
    "    def decorator_repeat(func):\n",
    "        @functools.wraps(func)\n",
    "        def wrapper(*args, **kwargs):\n",
    "            for _ in range(num_times)\n",
    "\n",
    "\n",
    "@repeate(num_times=3)\n",
    "def great(name):\n",
    "    print(f'Hello {name}')"
   ]
  },
  {
   "cell_type": "markdown",
   "id": "476a39ba",
   "metadata": {},
   "source": [
    "### Generator"
   ]
  },
  {
   "cell_type": "code",
   "execution_count": 99,
   "id": "943280e8",
   "metadata": {},
   "outputs": [
    {
     "name": "stdout",
     "output_type": "stream",
     "text": [
      "1\n",
      "2\n",
      "3\n",
      "0\n",
      "[]\n"
     ]
    }
   ],
   "source": [
    "def mygenerator():\n",
    "    yield 1\n",
    "    yield 2\n",
    "    yield 3\n",
    "\n",
    "g=mygenerator()\n",
    "\n",
    "for i in g:\n",
    "    print(i)\n",
    "\n",
    "print(sum(g))\n",
    "\n",
    "print(sorted(g))"
   ]
  },
  {
   "cell_type": "code",
   "execution_count": 101,
   "id": "16543df1",
   "metadata": {},
   "outputs": [
    {
     "name": "stdout",
     "output_type": "stream",
     "text": [
      "Starting\n",
      "4\n",
      "3\n"
     ]
    }
   ],
   "source": [
    "def countdown(num):\n",
    "    print('Starting')\n",
    "    while num>0:\n",
    "        yield num\n",
    "        num -=1\n",
    "\n",
    "cd=countdown(4)\n",
    "\n",
    "value=next(cd)\n",
    "print(value)\n",
    "\n",
    "print(next(cd))"
   ]
  },
  {
   "cell_type": "code",
   "execution_count": 102,
   "id": "28f5c277",
   "metadata": {},
   "outputs": [
    {
     "name": "stdout",
     "output_type": "stream",
     "text": [
      "0\n",
      "1\n",
      "1\n",
      "2\n",
      "3\n",
      "5\n",
      "8\n",
      "13\n",
      "21\n"
     ]
    }
   ],
   "source": [
    "def fibonacci(limit):\n",
    "    a,b =0,1\n",
    "    while a<limit:\n",
    "        yield a\n",
    "        a,b =b,a+b\n",
    "\n",
    "fib = fibonacci(30)\n",
    "\n",
    "for i in fib:\n",
    "    print(i)"
   ]
  },
  {
   "cell_type": "code",
   "execution_count": null,
   "id": "d9a40ef9",
   "metadata": {},
   "outputs": [],
   "source": []
  }
 ],
 "metadata": {
  "kernelspec": {
   "display_name": "base",
   "language": "python",
   "name": "python3"
  },
  "language_info": {
   "codemirror_mode": {
    "name": "ipython",
    "version": 3
   },
   "file_extension": ".py",
   "mimetype": "text/x-python",
   "name": "python",
   "nbconvert_exporter": "python",
   "pygments_lexer": "ipython3",
   "version": "3.12.7"
  }
 },
 "nbformat": 4,
 "nbformat_minor": 5
}
